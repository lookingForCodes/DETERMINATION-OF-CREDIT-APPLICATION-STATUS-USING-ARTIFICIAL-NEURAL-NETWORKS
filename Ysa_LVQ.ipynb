{
 "cells": [
  {
   "cell_type": "code",
   "execution_count": 1,
   "id": "1385ded2",
   "metadata": {
    "_cell_guid": "b1076dfc-b9ad-4769-8c92-a6c4dae69d19",
    "_uuid": "8f2839f25d086af736a60e9eeb907d3b93b6e0e5",
    "execution": {
     "iopub.execute_input": "2024-05-12T19:49:47.611372Z",
     "iopub.status.busy": "2024-05-12T19:49:47.610915Z",
     "iopub.status.idle": "2024-05-12T19:49:48.712092Z",
     "shell.execute_reply": "2024-05-12T19:49:48.710550Z"
    },
    "papermill": {
     "duration": 1.117189,
     "end_time": "2024-05-12T19:49:48.717179",
     "exception": false,
     "start_time": "2024-05-12T19:49:47.599990",
     "status": "completed"
    },
    "tags": []
   },
   "outputs": [
    {
     "name": "stdout",
     "output_type": "stream",
     "text": [
      "/kaggle/input/loan-approval-prediction-dataset/loan_approval_dataset.csv\n"
     ]
    }
   ],
   "source": [
    "# This Python 3 environment comes with many helpful analytics libraries installed\n",
    "# It is defined by the kaggle/python Docker image: https://github.com/kaggle/docker-python\n",
    "# For example, here's several helpful packages to load\n",
    "\n",
    "import numpy as np # linear algebra\n",
    "import pandas as pd # data processing, CSV file I/O (e.g. pd.read_csv)\n",
    "\n",
    "# Input data files are available in the read-only \"../input/\" directory\n",
    "# For example, running this (by clicking run or pressing Shift+Enter) will list all files under the input directory\n",
    "\n",
    "import os\n",
    "for dirname, _, filenames in os.walk('/kaggle/input'):\n",
    "    for filename in filenames:\n",
    "        print(os.path.join(dirname, filename))\n",
    "\n",
    "# You can write up to 20GB to the current directory (/kaggle/working/) that gets preserved as output when you create a version using \"Save & Run All\" \n",
    "# You can also write temporary files to /kaggle/temp/, but they won't be saved outside of the current session"
   ]
  },
  {
   "cell_type": "code",
   "execution_count": 2,
   "id": "f627a609",
   "metadata": {
    "execution": {
     "iopub.execute_input": "2024-05-12T19:49:48.738698Z",
     "iopub.status.busy": "2024-05-12T19:49:48.737929Z",
     "iopub.status.idle": "2024-05-12T19:49:48.814004Z",
     "shell.execute_reply": "2024-05-12T19:49:48.813117Z"
    },
    "papermill": {
     "duration": 0.091457,
     "end_time": "2024-05-12T19:49:48.817947",
     "exception": false,
     "start_time": "2024-05-12T19:49:48.726490",
     "status": "completed"
    },
    "tags": []
   },
   "outputs": [
    {
     "data": {
      "text/html": [
       "<div>\n",
       "<style scoped>\n",
       "    .dataframe tbody tr th:only-of-type {\n",
       "        vertical-align: middle;\n",
       "    }\n",
       "\n",
       "    .dataframe tbody tr th {\n",
       "        vertical-align: top;\n",
       "    }\n",
       "\n",
       "    .dataframe thead th {\n",
       "        text-align: right;\n",
       "    }\n",
       "</style>\n",
       "<table border=\"1\" class=\"dataframe\">\n",
       "  <thead>\n",
       "    <tr style=\"text-align: right;\">\n",
       "      <th></th>\n",
       "      <th>loan_id</th>\n",
       "      <th>no_of_dependents</th>\n",
       "      <th>education</th>\n",
       "      <th>self_employed</th>\n",
       "      <th>income_annum</th>\n",
       "      <th>loan_amount</th>\n",
       "      <th>loan_term</th>\n",
       "      <th>cibil_score</th>\n",
       "      <th>residential_assets_value</th>\n",
       "      <th>commercial_assets_value</th>\n",
       "      <th>luxury_assets_value</th>\n",
       "      <th>bank_asset_value</th>\n",
       "      <th>loan_status</th>\n",
       "    </tr>\n",
       "  </thead>\n",
       "  <tbody>\n",
       "    <tr>\n",
       "      <th>0</th>\n",
       "      <td>1</td>\n",
       "      <td>2</td>\n",
       "      <td>Graduate</td>\n",
       "      <td>No</td>\n",
       "      <td>9600000</td>\n",
       "      <td>29900000</td>\n",
       "      <td>12</td>\n",
       "      <td>778</td>\n",
       "      <td>2400000</td>\n",
       "      <td>17600000</td>\n",
       "      <td>22700000</td>\n",
       "      <td>8000000</td>\n",
       "      <td>Approved</td>\n",
       "    </tr>\n",
       "    <tr>\n",
       "      <th>1</th>\n",
       "      <td>2</td>\n",
       "      <td>0</td>\n",
       "      <td>Not Graduate</td>\n",
       "      <td>Yes</td>\n",
       "      <td>4100000</td>\n",
       "      <td>12200000</td>\n",
       "      <td>8</td>\n",
       "      <td>417</td>\n",
       "      <td>2700000</td>\n",
       "      <td>2200000</td>\n",
       "      <td>8800000</td>\n",
       "      <td>3300000</td>\n",
       "      <td>Rejected</td>\n",
       "    </tr>\n",
       "    <tr>\n",
       "      <th>2</th>\n",
       "      <td>3</td>\n",
       "      <td>3</td>\n",
       "      <td>Graduate</td>\n",
       "      <td>No</td>\n",
       "      <td>9100000</td>\n",
       "      <td>29700000</td>\n",
       "      <td>20</td>\n",
       "      <td>506</td>\n",
       "      <td>7100000</td>\n",
       "      <td>4500000</td>\n",
       "      <td>33300000</td>\n",
       "      <td>12800000</td>\n",
       "      <td>Rejected</td>\n",
       "    </tr>\n",
       "    <tr>\n",
       "      <th>3</th>\n",
       "      <td>4</td>\n",
       "      <td>3</td>\n",
       "      <td>Graduate</td>\n",
       "      <td>No</td>\n",
       "      <td>8200000</td>\n",
       "      <td>30700000</td>\n",
       "      <td>8</td>\n",
       "      <td>467</td>\n",
       "      <td>18200000</td>\n",
       "      <td>3300000</td>\n",
       "      <td>23300000</td>\n",
       "      <td>7900000</td>\n",
       "      <td>Rejected</td>\n",
       "    </tr>\n",
       "    <tr>\n",
       "      <th>4</th>\n",
       "      <td>5</td>\n",
       "      <td>5</td>\n",
       "      <td>Not Graduate</td>\n",
       "      <td>Yes</td>\n",
       "      <td>9800000</td>\n",
       "      <td>24200000</td>\n",
       "      <td>20</td>\n",
       "      <td>382</td>\n",
       "      <td>12400000</td>\n",
       "      <td>8200000</td>\n",
       "      <td>29400000</td>\n",
       "      <td>5000000</td>\n",
       "      <td>Rejected</td>\n",
       "    </tr>\n",
       "    <tr>\n",
       "      <th>5</th>\n",
       "      <td>6</td>\n",
       "      <td>0</td>\n",
       "      <td>Graduate</td>\n",
       "      <td>Yes</td>\n",
       "      <td>4800000</td>\n",
       "      <td>13500000</td>\n",
       "      <td>10</td>\n",
       "      <td>319</td>\n",
       "      <td>6800000</td>\n",
       "      <td>8300000</td>\n",
       "      <td>13700000</td>\n",
       "      <td>5100000</td>\n",
       "      <td>Rejected</td>\n",
       "    </tr>\n",
       "    <tr>\n",
       "      <th>6</th>\n",
       "      <td>7</td>\n",
       "      <td>5</td>\n",
       "      <td>Graduate</td>\n",
       "      <td>No</td>\n",
       "      <td>8700000</td>\n",
       "      <td>33000000</td>\n",
       "      <td>4</td>\n",
       "      <td>678</td>\n",
       "      <td>22500000</td>\n",
       "      <td>14800000</td>\n",
       "      <td>29200000</td>\n",
       "      <td>4300000</td>\n",
       "      <td>Approved</td>\n",
       "    </tr>\n",
       "    <tr>\n",
       "      <th>7</th>\n",
       "      <td>8</td>\n",
       "      <td>2</td>\n",
       "      <td>Graduate</td>\n",
       "      <td>Yes</td>\n",
       "      <td>5700000</td>\n",
       "      <td>15000000</td>\n",
       "      <td>20</td>\n",
       "      <td>382</td>\n",
       "      <td>13200000</td>\n",
       "      <td>5700000</td>\n",
       "      <td>11800000</td>\n",
       "      <td>6000000</td>\n",
       "      <td>Rejected</td>\n",
       "    </tr>\n",
       "    <tr>\n",
       "      <th>8</th>\n",
       "      <td>9</td>\n",
       "      <td>0</td>\n",
       "      <td>Graduate</td>\n",
       "      <td>Yes</td>\n",
       "      <td>800000</td>\n",
       "      <td>2200000</td>\n",
       "      <td>20</td>\n",
       "      <td>782</td>\n",
       "      <td>1300000</td>\n",
       "      <td>800000</td>\n",
       "      <td>2800000</td>\n",
       "      <td>600000</td>\n",
       "      <td>Approved</td>\n",
       "    </tr>\n",
       "    <tr>\n",
       "      <th>9</th>\n",
       "      <td>10</td>\n",
       "      <td>5</td>\n",
       "      <td>Not Graduate</td>\n",
       "      <td>No</td>\n",
       "      <td>1100000</td>\n",
       "      <td>4300000</td>\n",
       "      <td>10</td>\n",
       "      <td>388</td>\n",
       "      <td>3200000</td>\n",
       "      <td>1400000</td>\n",
       "      <td>3300000</td>\n",
       "      <td>1600000</td>\n",
       "      <td>Rejected</td>\n",
       "    </tr>\n",
       "  </tbody>\n",
       "</table>\n",
       "</div>"
      ],
      "text/plain": [
       "   loan_id   no_of_dependents      education  self_employed   income_annum  \\\n",
       "0        1                  2       Graduate             No        9600000   \n",
       "1        2                  0   Not Graduate            Yes        4100000   \n",
       "2        3                  3       Graduate             No        9100000   \n",
       "3        4                  3       Graduate             No        8200000   \n",
       "4        5                  5   Not Graduate            Yes        9800000   \n",
       "5        6                  0       Graduate            Yes        4800000   \n",
       "6        7                  5       Graduate             No        8700000   \n",
       "7        8                  2       Graduate            Yes        5700000   \n",
       "8        9                  0       Graduate            Yes         800000   \n",
       "9       10                  5   Not Graduate             No        1100000   \n",
       "\n",
       "    loan_amount   loan_term   cibil_score   residential_assets_value  \\\n",
       "0      29900000          12           778                    2400000   \n",
       "1      12200000           8           417                    2700000   \n",
       "2      29700000          20           506                    7100000   \n",
       "3      30700000           8           467                   18200000   \n",
       "4      24200000          20           382                   12400000   \n",
       "5      13500000          10           319                    6800000   \n",
       "6      33000000           4           678                   22500000   \n",
       "7      15000000          20           382                   13200000   \n",
       "8       2200000          20           782                    1300000   \n",
       "9       4300000          10           388                    3200000   \n",
       "\n",
       "    commercial_assets_value   luxury_assets_value   bank_asset_value  \\\n",
       "0                  17600000              22700000            8000000   \n",
       "1                   2200000               8800000            3300000   \n",
       "2                   4500000              33300000           12800000   \n",
       "3                   3300000              23300000            7900000   \n",
       "4                   8200000              29400000            5000000   \n",
       "5                   8300000              13700000            5100000   \n",
       "6                  14800000              29200000            4300000   \n",
       "7                   5700000              11800000            6000000   \n",
       "8                    800000               2800000             600000   \n",
       "9                   1400000               3300000            1600000   \n",
       "\n",
       "   loan_status  \n",
       "0     Approved  \n",
       "1     Rejected  \n",
       "2     Rejected  \n",
       "3     Rejected  \n",
       "4     Rejected  \n",
       "5     Rejected  \n",
       "6     Approved  \n",
       "7     Rejected  \n",
       "8     Approved  \n",
       "9     Rejected  "
      ]
     },
     "execution_count": 2,
     "metadata": {},
     "output_type": "execute_result"
    }
   ],
   "source": [
    "loan_data = pd.read_csv(\"/kaggle/input/loan-approval-prediction-dataset/loan_approval_dataset.csv\")\n",
    "loan_data.head(10)"
   ]
  },
  {
   "cell_type": "markdown",
   "id": "f0de6c42",
   "metadata": {
    "papermill": {
     "duration": 0.010501,
     "end_time": "2024-05-12T19:49:48.840728",
     "exception": false,
     "start_time": "2024-05-12T19:49:48.830227",
     "status": "completed"
    },
    "tags": []
   },
   "source": []
  },
  {
   "cell_type": "code",
   "execution_count": 3,
   "id": "8c65c769",
   "metadata": {
    "execution": {
     "iopub.execute_input": "2024-05-12T19:49:48.862800Z",
     "iopub.status.busy": "2024-05-12T19:49:48.862315Z",
     "iopub.status.idle": "2024-05-12T19:49:48.867827Z",
     "shell.execute_reply": "2024-05-12T19:49:48.866496Z"
    },
    "papermill": {
     "duration": 0.019208,
     "end_time": "2024-05-12T19:49:48.870616",
     "exception": false,
     "start_time": "2024-05-12T19:49:48.851408",
     "status": "completed"
    },
    "tags": []
   },
   "outputs": [],
   "source": [
    "df=loan_data"
   ]
  },
  {
   "cell_type": "code",
   "execution_count": 4,
   "id": "e9be8d50",
   "metadata": {
    "execution": {
     "iopub.execute_input": "2024-05-12T19:49:48.891715Z",
     "iopub.status.busy": "2024-05-12T19:49:48.891190Z",
     "iopub.status.idle": "2024-05-12T19:49:48.907187Z",
     "shell.execute_reply": "2024-05-12T19:49:48.905746Z"
    },
    "papermill": {
     "duration": 0.030339,
     "end_time": "2024-05-12T19:49:48.910604",
     "exception": false,
     "start_time": "2024-05-12T19:49:48.880265",
     "status": "completed"
    },
    "tags": []
   },
   "outputs": [
    {
     "data": {
      "text/plain": [
       "loan_id                      0\n",
       " no_of_dependents            0\n",
       " education                   0\n",
       " self_employed               0\n",
       " income_annum                0\n",
       " loan_amount                 0\n",
       " loan_term                   0\n",
       " cibil_score                 0\n",
       " residential_assets_value    0\n",
       " commercial_assets_value     0\n",
       " luxury_assets_value         0\n",
       " bank_asset_value            0\n",
       " loan_status                 0\n",
       "dtype: int64"
      ]
     },
     "execution_count": 4,
     "metadata": {},
     "output_type": "execute_result"
    }
   ],
   "source": [
    "df.isnull().sum()"
   ]
  },
  {
   "cell_type": "code",
   "execution_count": 5,
   "id": "a2321b08",
   "metadata": {
    "execution": {
     "iopub.execute_input": "2024-05-12T19:49:48.937704Z",
     "iopub.status.busy": "2024-05-12T19:49:48.936491Z",
     "iopub.status.idle": "2024-05-12T19:49:49.407978Z",
     "shell.execute_reply": "2024-05-12T19:49:49.406155Z"
    },
    "papermill": {
     "duration": 0.486603,
     "end_time": "2024-05-12T19:49:49.409741",
     "exception": true,
     "start_time": "2024-05-12T19:49:48.923138",
     "status": "failed"
    },
    "tags": []
   },
   "outputs": [
    {
     "ename": "NameError",
     "evalue": "name 'preprocessing' is not defined",
     "output_type": "error",
     "traceback": [
      "\u001b[0;31m---------------------------------------------------------------------------\u001b[0m",
      "\u001b[0;31mNameError\u001b[0m                                 Traceback (most recent call last)",
      "Cell \u001b[0;32mIn[5], line 1\u001b[0m\n\u001b[0;32m----> 1\u001b[0m label_encoder \u001b[38;5;241m=\u001b[39m \u001b[43mpreprocessing\u001b[49m\u001b[38;5;241m.\u001b[39mLabelEncoder()\n\u001b[1;32m      2\u001b[0m loan_data\u001b[38;5;241m.\u001b[39mcolumns\n",
      "\u001b[0;31mNameError\u001b[0m: name 'preprocessing' is not defined"
     ]
    }
   ],
   "source": [
    "label_encoder = preprocessing.LabelEncoder()\n",
    "loan_data.columns"
   ]
  },
  {
   "cell_type": "code",
   "execution_count": null,
   "id": "5dacdf91",
   "metadata": {
    "execution": {
     "iopub.execute_input": "2024-05-12T12:45:47.970527Z",
     "iopub.status.busy": "2024-05-12T12:45:47.970095Z",
     "iopub.status.idle": "2024-05-12T12:45:47.975330Z",
     "shell.execute_reply": "2024-05-12T12:45:47.974460Z",
     "shell.execute_reply.started": "2024-05-12T12:45:47.970493Z"
    },
    "papermill": {
     "duration": null,
     "end_time": null,
     "exception": null,
     "start_time": null,
     "status": "pending"
    },
    "tags": []
   },
   "outputs": [],
   "source": [
    "label_encoder_y = preprocessing.LabelEncoder() "
   ]
  },
  {
   "cell_type": "code",
   "execution_count": null,
   "id": "b1cea011",
   "metadata": {
    "execution": {
     "iopub.execute_input": "2024-05-12T12:47:28.410576Z",
     "iopub.status.busy": "2024-05-12T12:47:28.410122Z",
     "iopub.status.idle": "2024-05-12T12:47:28.427846Z",
     "shell.execute_reply": "2024-05-12T12:47:28.426943Z",
     "shell.execute_reply.started": "2024-05-12T12:47:28.410544Z"
    },
    "papermill": {
     "duration": null,
     "end_time": null,
     "exception": null,
     "start_time": null,
     "status": "pending"
    },
    "tags": []
   },
   "outputs": [],
   "source": [
    "loan_data[' education'] = label_encoder.fit_transform(loan_data[' education'])\n",
    "loan_data[' self_employed'] = label_encoder.fit_transform(loan_data[' self_employed'])\n",
    "loan_data[' loan_status'] = label_encoder_y.fit_transform(loan_data[' loan_status'])\n",
    "print(loan_data[[' education', ' self_employed',' loan_status']])"
   ]
  },
  {
   "cell_type": "code",
   "execution_count": null,
   "id": "a9d06527",
   "metadata": {
    "execution": {
     "iopub.execute_input": "2024-05-12T12:47:36.671076Z",
     "iopub.status.busy": "2024-05-12T12:47:36.670643Z",
     "iopub.status.idle": "2024-05-12T12:47:36.691294Z",
     "shell.execute_reply": "2024-05-12T12:47:36.690521Z",
     "shell.execute_reply.started": "2024-05-12T12:47:36.671043Z"
    },
    "papermill": {
     "duration": null,
     "end_time": null,
     "exception": null,
     "start_time": null,
     "status": "pending"
    },
    "tags": []
   },
   "outputs": [],
   "source": [
    "loan_data"
   ]
  },
  {
   "cell_type": "code",
   "execution_count": null,
   "id": "b3fa3034",
   "metadata": {
    "execution": {
     "iopub.execute_input": "2024-05-12T12:47:48.549626Z",
     "iopub.status.busy": "2024-05-12T12:47:48.549202Z",
     "iopub.status.idle": "2024-05-12T12:47:48.557186Z",
     "shell.execute_reply": "2024-05-12T12:47:48.556459Z",
     "shell.execute_reply.started": "2024-05-12T12:47:48.549593Z"
    },
    "papermill": {
     "duration": null,
     "end_time": null,
     "exception": null,
     "start_time": null,
     "status": "pending"
    },
    "tags": []
   },
   "outputs": [],
   "source": [
    "selected_features = [' education', ' self_employed', ' loan_status', ' no_of_dependents',  ' income_annum', ' loan_amount',' loan_term',' cibil_score',' residential_assets_value', ' commercial_assets_value',\n",
    "       ' luxury_assets_value', ' bank_asset_value']\n",
    "selected_features"
   ]
  },
  {
   "cell_type": "code",
   "execution_count": null,
   "id": "03afaf2a",
   "metadata": {
    "execution": {
     "iopub.execute_input": "2024-05-12T12:47:54.365142Z",
     "iopub.status.busy": "2024-05-12T12:47:54.364534Z",
     "iopub.status.idle": "2024-05-12T12:47:54.371431Z",
     "shell.execute_reply": "2024-05-12T12:47:54.370385Z",
     "shell.execute_reply.started": "2024-05-12T12:47:54.365112Z"
    },
    "papermill": {
     "duration": null,
     "end_time": null,
     "exception": null,
     "start_time": null,
     "status": "pending"
    },
    "tags": []
   },
   "outputs": [],
   "source": [
    "X = df[selected_features]  # Bağımsız Değerler\n",
    "y = df[' loan_status']"
   ]
  },
  {
   "cell_type": "code",
   "execution_count": null,
   "id": "d08debb1",
   "metadata": {
    "execution": {
     "iopub.execute_input": "2024-05-12T13:05:38.124627Z",
     "iopub.status.busy": "2024-05-12T13:05:38.124240Z",
     "iopub.status.idle": "2024-05-12T13:05:38.132709Z",
     "shell.execute_reply": "2024-05-12T13:05:38.131578Z",
     "shell.execute_reply.started": "2024-05-12T13:05:38.124600Z"
    },
    "papermill": {
     "duration": null,
     "end_time": null,
     "exception": null,
     "start_time": null,
     "status": "pending"
    },
    "tags": []
   },
   "outputs": [],
   "source": [
    "X_train, X_test, y_train, y_test = train_test_split(X, y, test_size=0.3, random_state=42)"
   ]
  },
  {
   "cell_type": "code",
   "execution_count": null,
   "id": "b52acd6b",
   "metadata": {
    "execution": {
     "iopub.execute_input": "2024-05-12T13:05:39.985131Z",
     "iopub.status.busy": "2024-05-12T13:05:39.984729Z",
     "iopub.status.idle": "2024-05-12T13:05:39.997676Z",
     "shell.execute_reply": "2024-05-12T13:05:39.996281Z",
     "shell.execute_reply.started": "2024-05-12T13:05:39.985099Z"
    },
    "papermill": {
     "duration": null,
     "end_time": null,
     "exception": null,
     "start_time": null,
     "status": "pending"
    },
    "tags": []
   },
   "outputs": [],
   "source": [
    "mms = MinMaxScaler()\n",
    "\n",
    "X_train = mms.fit_transform(X_train)\n",
    "X_test = mms.transform(X_test)\n"
   ]
  },
  {
   "cell_type": "code",
   "execution_count": null,
   "id": "38e401da",
   "metadata": {
    "execution": {
     "iopub.execute_input": "2024-05-12T13:05:42.470831Z",
     "iopub.status.busy": "2024-05-12T13:05:42.470049Z",
     "iopub.status.idle": "2024-05-12T13:05:42.476019Z",
     "shell.execute_reply": "2024-05-12T13:05:42.475211Z",
     "shell.execute_reply.started": "2024-05-12T13:05:42.470793Z"
    },
    "papermill": {
     "duration": null,
     "end_time": null,
     "exception": null,
     "start_time": null,
     "status": "pending"
    },
    "tags": []
   },
   "outputs": [],
   "source": [
    "X_train = np.array(X_train)\n",
    "X_test = np.array(X_test)\n",
    "y_train = np.array(y_train)\n",
    "y_test = np.array(y_test)"
   ]
  },
  {
   "cell_type": "code",
   "execution_count": null,
   "id": "e56c1944",
   "metadata": {
    "execution": {
     "iopub.execute_input": "2024-05-12T13:05:47.215516Z",
     "iopub.status.busy": "2024-05-12T13:05:47.215136Z",
     "iopub.status.idle": "2024-05-12T13:05:47.221133Z",
     "shell.execute_reply": "2024-05-12T13:05:47.220377Z",
     "shell.execute_reply.started": "2024-05-12T13:05:47.215486Z"
    },
    "papermill": {
     "duration": null,
     "end_time": null,
     "exception": null,
     "start_time": null,
     "status": "pending"
    },
    "tags": []
   },
   "outputs": [],
   "source": [
    "n_input = X_train.shape[1]\n",
    "n_output = len(np.unique(y_train))\n",
    "\n",
    "print('Input Neuron:', n_input)\n",
    "print('Output Neuron:', n_output)"
   ]
  },
  {
   "cell_type": "code",
   "execution_count": null,
   "id": "ae7b03d7",
   "metadata": {
    "execution": {
     "iopub.execute_input": "2024-05-12T13:05:53.722925Z",
     "iopub.status.busy": "2024-05-12T13:05:53.721941Z",
     "iopub.status.idle": "2024-05-12T13:05:53.736117Z",
     "shell.execute_reply": "2024-05-12T13:05:53.735382Z",
     "shell.execute_reply.started": "2024-05-12T13:05:53.722889Z"
    },
    "papermill": {
     "duration": null,
     "end_time": null,
     "exception": null,
     "start_time": null,
     "status": "pending"
    },
    "tags": []
   },
   "outputs": [],
   "source": [
    "class LVQ(object):\n",
    "    def __init__(self, sizeInput, sizeOutput, max_epoch, learning_rate, fungsi_pembelajaran):\n",
    "        self.sizeInput = sizeInput\n",
    "        self.sizeOutput = sizeOutput\n",
    "        self.max_epoch = max_epoch\n",
    "        self.alpha = learning_rate\n",
    "        self.fungsi_pembelajaran = fungsi_pembelajaran\n",
    "        self.weight = np.zeros((sizeOutput, sizeInput))\n",
    "\n",
    "    def getWeight(self):\n",
    "        return self.weight\n",
    "\n",
    "    def train(self, train_data, train_target):\n",
    "        weight_label, label_index = np.unique(train_target, return_index=True)\n",
    "\n",
    "        # Inisialisasi bobot\n",
    "        self.weight = train_data[label_index].astype(np.float)\n",
    "\n",
    "        # Hapus data yang digunakan untuk inisialisasi bobot\n",
    "        train_data = np.delete(train_data, label_index, axis=0)\n",
    "        train_target = np.delete(train_target, label_index, axis=0)\n",
    "\n",
    "        epoch = 0\n",
    "        iterasi = 0\n",
    "        \n",
    "        while epoch <= self.max_epoch:\n",
    "            epoch += 1\n",
    "            for data, target in zip(train_data, train_target):\n",
    "                iterasi += 1\n",
    "                distance = np.sqrt(np.sum((data - self.weight) ** 2, axis=1))\n",
    "                idx_min = np.argmin(distance)\n",
    "\n",
    "                if target == weight_label[idx_min]:\n",
    "                    self.weight[idx_min] = self.weight[idx_min] + self.alpha * (data - self.weight[idx_min])\n",
    "                else:\n",
    "                    self.weight[idx_min] = self.weight[idx_min] - self.alpha * (data - self.weight[idx_min])\n",
    "\n",
    "            self.alpha = self.alpha - (self.fungsi_pembelajaran * self.alpha)\n",
    "\n",
    "        weight_class = (self.weight, weight_label)\n",
    "        return weight_class\n",
    "\n",
    "    def test(self, test_data, weight_class):\n",
    "        weight, label = weight_class\n",
    "        output = []\n",
    "        for data in test_data:\n",
    "            distance = np.sqrt(np.sum((data - self.weight) ** 2, axis=1))\n",
    "            idx_min = np.argmin(distance)\n",
    "            output.append(label[idx_min])\n",
    "\n",
    "        return output\n"
   ]
  },
  {
   "cell_type": "code",
   "execution_count": null,
   "id": "10d47ec9",
   "metadata": {
    "execution": {
     "iopub.execute_input": "2024-05-12T13:06:02.801745Z",
     "iopub.status.busy": "2024-05-12T13:06:02.801341Z",
     "iopub.status.idle": "2024-05-12T13:06:02.816243Z",
     "shell.execute_reply": "2024-05-12T13:06:02.815168Z",
     "shell.execute_reply.started": "2024-05-12T13:06:02.801712Z"
    },
    "papermill": {
     "duration": null,
     "end_time": null,
     "exception": null,
     "start_time": null,
     "status": "pending"
    },
    "tags": []
   },
   "outputs": [],
   "source": [
    "class LVQ(object):\n",
    "    def __init__(self, sizeInput, sizeOutput, max_epoch, learning_rate, fungsi_pembelajaran):\n",
    "        self.sizeInput = sizeInput\n",
    "        self.sizeOutput = sizeOutput\n",
    "        self.max_epoch = max_epoch\n",
    "        self.alpha = learning_rate\n",
    "        self.fungsi_pembelajaran = fungsi_pembelajaran\n",
    "        self.weight = np.zeros((sizeOutput, sizeInput))\n",
    "\n",
    "    def getWeight(self):\n",
    "        return self.weight\n",
    "\n",
    "    def train(self, train_data, train_target):\n",
    "        weight_label, label_index = np.unique(train_target, return_index=True)\n",
    "\n",
    "        # Initialize weights\n",
    "        self.weight = train_data[label_index].astype(float)\n",
    "\n",
    "        # Remove data used for weight initialization\n",
    "        train_data = np.delete(train_data, label_index, axis=0)\n",
    "        train_target = np.delete(train_target, label_index, axis=0)\n",
    "\n",
    "        epoch = 0\n",
    "        \n",
    "        while epoch <= self.max_epoch:\n",
    "            epoch += 1\n",
    "            for data, target in zip(train_data, train_target):\n",
    "                distance = np.sqrt(np.sum((data - self.weight) ** 2, axis=1))\n",
    "                idx_min = np.argmin(distance)\n",
    "\n",
    "                if target == weight_label[idx_min]:\n",
    "                    self.weight[idx_min] = self.weight[idx_min] + self.alpha * (data - self.weight[idx_min])\n",
    "                else:\n",
    "                    self.weight[idx_min] = self.weight[idx_min] - self.alpha * (data - self.weight[idx_min])\n",
    "\n",
    "            self.alpha = self.alpha - (self.fungsi_pembelajaran * self.alpha)\n",
    "\n",
    "        weight_class = (self.weight, weight_label)\n",
    "        return weight_class\n",
    "\n",
    "    def test(self, test_data, weight_class):\n",
    "        weight, label = weight_class\n",
    "        output = []\n",
    "        for data in test_data:\n",
    "            distance = np.sqrt(np.sum((data - self.weight) ** 2, axis=1))\n",
    "            idx_min = np.argmin(distance)\n",
    "            output.append(label[idx_min])\n",
    "\n",
    "        return output\n"
   ]
  },
  {
   "cell_type": "code",
   "execution_count": null,
   "id": "005fd351",
   "metadata": {
    "execution": {
     "iopub.execute_input": "2024-05-12T13:06:09.745834Z",
     "iopub.status.busy": "2024-05-12T13:06:09.744980Z",
     "iopub.status.idle": "2024-05-12T13:06:10.032643Z",
     "shell.execute_reply": "2024-05-12T13:06:10.031629Z",
     "shell.execute_reply.started": "2024-05-12T13:06:09.745780Z"
    },
    "papermill": {
     "duration": null,
     "end_time": null,
     "exception": null,
     "start_time": null,
     "status": "pending"
    },
    "tags": []
   },
   "outputs": [],
   "source": [
    "lvq = LVQ(sizeInput=n_input, sizeOutput=n_output, max_epoch=3, learning_rate=0.3, fungsi_pembelajaran=0.1)\n",
    "bobot_dan_label = lvq.train(X_train, y_train)\n",
    "bobot = lvq.getWeight()\n",
    "\n",
    "print('Bobot: ', bobot)\n",
    "print('Ukuran Bobot:', bobot.shape)"
   ]
  },
  {
   "cell_type": "code",
   "execution_count": null,
   "id": "61a9933f",
   "metadata": {
    "execution": {
     "iopub.execute_input": "2024-05-12T13:06:13.180137Z",
     "iopub.status.busy": "2024-05-12T13:06:13.178856Z",
     "iopub.status.idle": "2024-05-12T13:06:13.230776Z",
     "shell.execute_reply": "2024-05-12T13:06:13.229589Z",
     "shell.execute_reply.started": "2024-05-12T13:06:13.180096Z"
    },
    "papermill": {
     "duration": null,
     "end_time": null,
     "exception": null,
     "start_time": null,
     "status": "pending"
    },
    "tags": []
   },
   "outputs": [],
   "source": [
    "y_pred = lvq.test(X_test, bobot_dan_label)\n",
    "print('Accuracy:', accuracy_score(y_test, y_pred))"
   ]
  },
  {
   "cell_type": "code",
   "execution_count": null,
   "id": "d064d2d5",
   "metadata": {
    "execution": {
     "iopub.execute_input": "2024-05-12T13:02:56.049923Z",
     "iopub.status.busy": "2024-05-12T13:02:56.049549Z",
     "iopub.status.idle": "2024-05-12T13:02:56.058497Z",
     "shell.execute_reply": "2024-05-12T13:02:56.057206Z",
     "shell.execute_reply.started": "2024-05-12T13:02:56.049894Z"
    },
    "papermill": {
     "duration": null,
     "end_time": null,
     "exception": null,
     "start_time": null,
     "status": "pending"
    },
    "tags": []
   },
   "outputs": [],
   "source": [
    "print(confusion_matrix(y_pred, y_test))"
   ]
  },
  {
   "cell_type": "code",
   "execution_count": null,
   "id": "d2b70ba3",
   "metadata": {
    "execution": {
     "iopub.execute_input": "2024-05-12T13:03:13.932188Z",
     "iopub.status.busy": "2024-05-12T13:03:13.931808Z",
     "iopub.status.idle": "2024-05-12T13:03:13.953012Z",
     "shell.execute_reply": "2024-05-12T13:03:13.952066Z",
     "shell.execute_reply.started": "2024-05-12T13:03:13.932161Z"
    },
    "papermill": {
     "duration": null,
     "end_time": null,
     "exception": null,
     "start_time": null,
     "status": "pending"
    },
    "tags": []
   },
   "outputs": [],
   "source": [
    "print(classification_report(y_pred, y_test))"
   ]
  },
  {
   "cell_type": "code",
   "execution_count": null,
   "id": "54d0b19b",
   "metadata": {
    "execution": {
     "iopub.execute_input": "2024-05-12T14:06:32.620877Z",
     "iopub.status.busy": "2024-05-12T14:06:32.620097Z",
     "iopub.status.idle": "2024-05-12T14:06:32.913502Z",
     "shell.execute_reply": "2024-05-12T14:06:32.912518Z",
     "shell.execute_reply.started": "2024-05-12T14:06:32.620840Z"
    },
    "papermill": {
     "duration": null,
     "end_time": null,
     "exception": null,
     "start_time": null,
     "status": "pending"
    },
    "tags": []
   },
   "outputs": [],
   "source": [
    "import numpy as np\n",
    "import seaborn as sns\n",
    "import matplotlib.pyplot as plt\n",
    "from sklearn.metrics import confusion_matrix\n",
    "\n",
    "# Test verileri üzerinde tahmin yapma\n",
    "y_pred = lvq.test(X_test, bobot_dan_label)\n",
    "# Tahmin edilen sınıfları geri dönüştürme (one-hot encoding'den geri dönüşüm)\n",
    "y_pred_classes = np.array(y_pred)\n",
    "# Gerçek sınıfları geri dönüştürme (one-hot encoding'den geri dönüşüm)\n",
    "y_true = y_test\n",
    "\n",
    "# Confusion matrix'i hesaplama\n",
    "conf_matrix = confusion_matrix(y_true, y_pred_classes)\n",
    "\n",
    "# Renkli görselleştirme\n",
    "sns.heatmap(conf_matrix, annot=True, fmt=\"d\", cmap=\"Blues\")\n",
    "plt.title(\"Confusion Matrix\")\n",
    "plt.xlabel(\"Predicted Label\")\n",
    "plt.ylabel(\"True Label\")\n",
    "plt.show()"
   ]
  },
  {
   "cell_type": "code",
   "execution_count": null,
   "id": "503fde29",
   "metadata": {
    "papermill": {
     "duration": null,
     "end_time": null,
     "exception": null,
     "start_time": null,
     "status": "pending"
    },
    "tags": []
   },
   "outputs": [],
   "source": []
  }
 ],
 "metadata": {
  "kaggle": {
   "accelerator": "none",
   "dataSources": [
    {
     "datasetId": 3523739,
     "sourceId": 6144787,
     "sourceType": "datasetVersion"
    }
   ],
   "dockerImageVersionId": 30698,
   "isGpuEnabled": false,
   "isInternetEnabled": true,
   "language": "python",
   "sourceType": "notebook"
  },
  "kernelspec": {
   "display_name": "Python 3",
   "language": "python",
   "name": "python3"
  },
  "language_info": {
   "codemirror_mode": {
    "name": "ipython",
    "version": 3
   },
   "file_extension": ".py",
   "mimetype": "text/x-python",
   "name": "python",
   "nbconvert_exporter": "python",
   "pygments_lexer": "ipython3",
   "version": "3.10.13"
  },
  "papermill": {
   "default_parameters": {},
   "duration": 5.910394,
   "end_time": "2024-05-12T19:49:50.041828",
   "environment_variables": {},
   "exception": true,
   "input_path": "__notebook__.ipynb",
   "output_path": "__notebook__.ipynb",
   "parameters": {},
   "start_time": "2024-05-12T19:49:44.131434",
   "version": "2.5.0"
  }
 },
 "nbformat": 4,
 "nbformat_minor": 5
}
