{
 "cells": [
  {
   "cell_type": "code",
   "execution_count": 1,
   "id": "6f51e18d",
   "metadata": {
    "_cell_guid": "b1076dfc-b9ad-4769-8c92-a6c4dae69d19",
    "_uuid": "8f2839f25d086af736a60e9eeb907d3b93b6e0e5",
    "execution": {
     "iopub.execute_input": "2024-05-17T22:00:05.284907Z",
     "iopub.status.busy": "2024-05-17T22:00:05.284186Z",
     "iopub.status.idle": "2024-05-17T22:00:06.411383Z",
     "shell.execute_reply": "2024-05-17T22:00:06.409702Z"
    },
    "papermill": {
     "duration": 1.142086,
     "end_time": "2024-05-17T22:00:06.415155",
     "exception": false,
     "start_time": "2024-05-17T22:00:05.273069",
     "status": "completed"
    },
    "tags": []
   },
   "outputs": [
    {
     "name": "stdout",
     "output_type": "stream",
     "text": [
      "/kaggle/input/predicting-heart-disease-risk-using-clinical-var/Heart_Disease_Prediction.csv\n"
     ]
    }
   ],
   "source": [
    "# This Python 3 environment comes with many helpful analytics libraries installed\n",
    "# It is defined by the kaggle/python Docker image: https://github.com/kaggle/docker-python\n",
    "# For example, here's several helpful packages to load\n",
    "\n",
    "import numpy as np # linear algebra\n",
    "import pandas as pd # data processing, CSV file I/O (e.g. pd.read_csv)\n",
    "\n",
    "# Input data files are available in the read-only \"../input/\" directory\n",
    "# For example, running this (by clicking run or pressing Shift+Enter) will list all files under the input directory\n",
    "\n",
    "import os\n",
    "for dirname, _, filenames in os.walk('/kaggle/input'):\n",
    "    for filename in filenames:\n",
    "        print(os.path.join(dirname, filename))\n",
    "\n",
    "# You can write up to 20GB to the current directory (/kaggle/working/) that gets preserved as output when you create a version using \"Save & Run All\" \n",
    "# You can also write temporary files to /kaggle/temp/, but they won't be saved outside of the current session"
   ]
  },
  {
   "cell_type": "code",
   "execution_count": 2,
   "id": "43c8653a",
   "metadata": {
    "execution": {
     "iopub.execute_input": "2024-05-17T22:00:06.434923Z",
     "iopub.status.busy": "2024-05-17T22:00:06.433490Z",
     "iopub.status.idle": "2024-05-17T22:00:08.555429Z",
     "shell.execute_reply": "2024-05-17T22:00:08.554378Z"
    },
    "papermill": {
     "duration": 2.134962,
     "end_time": "2024-05-17T22:00:08.558622",
     "exception": false,
     "start_time": "2024-05-17T22:00:06.423660",
     "status": "completed"
    },
    "tags": []
   },
   "outputs": [],
   "source": [
    "import numpy as np \n",
    "import seaborn as sns\n",
    "import matplotlib.pyplot as plt\n",
    "from sklearn.preprocessing import StandardScaler\n",
    "from sklearn.model_selection import train_test_split\n",
    "from sklearn.linear_model import LogisticRegression\n",
    "from sklearn.model_selection import train_test_split\n",
    "from sklearn.metrics import precision_score, recall_score, f1_score, accuracy_score\n",
    "import pandas as pd\n",
    "from sklearn.preprocessing import LabelEncoder\n",
    "from sklearn import preprocessing"
   ]
  },
  {
   "cell_type": "code",
   "execution_count": 3,
   "id": "3afafb63",
   "metadata": {
    "execution": {
     "iopub.execute_input": "2024-05-17T22:00:08.578757Z",
     "iopub.status.busy": "2024-05-17T22:00:08.577940Z",
     "iopub.status.idle": "2024-05-17T22:00:08.629490Z",
     "shell.execute_reply": "2024-05-17T22:00:08.627985Z"
    },
    "papermill": {
     "duration": 0.065311,
     "end_time": "2024-05-17T22:00:08.632600",
     "exception": false,
     "start_time": "2024-05-17T22:00:08.567289",
     "status": "completed"
    },
    "tags": []
   },
   "outputs": [
    {
     "data": {
      "text/html": [
       "<div>\n",
       "<style scoped>\n",
       "    .dataframe tbody tr th:only-of-type {\n",
       "        vertical-align: middle;\n",
       "    }\n",
       "\n",
       "    .dataframe tbody tr th {\n",
       "        vertical-align: top;\n",
       "    }\n",
       "\n",
       "    .dataframe thead th {\n",
       "        text-align: right;\n",
       "    }\n",
       "</style>\n",
       "<table border=\"1\" class=\"dataframe\">\n",
       "  <thead>\n",
       "    <tr style=\"text-align: right;\">\n",
       "      <th></th>\n",
       "      <th>index</th>\n",
       "      <th>Age</th>\n",
       "      <th>Sex</th>\n",
       "      <th>Chest pain type</th>\n",
       "      <th>BP</th>\n",
       "      <th>Cholesterol</th>\n",
       "      <th>FBS over 120</th>\n",
       "      <th>EKG results</th>\n",
       "      <th>Max HR</th>\n",
       "      <th>Exercise angina</th>\n",
       "      <th>ST depression</th>\n",
       "      <th>Slope of ST</th>\n",
       "      <th>Number of vessels fluro</th>\n",
       "      <th>Thallium</th>\n",
       "      <th>Heart Disease</th>\n",
       "    </tr>\n",
       "  </thead>\n",
       "  <tbody>\n",
       "    <tr>\n",
       "      <th>0</th>\n",
       "      <td>0</td>\n",
       "      <td>70</td>\n",
       "      <td>1</td>\n",
       "      <td>4</td>\n",
       "      <td>130</td>\n",
       "      <td>322</td>\n",
       "      <td>0</td>\n",
       "      <td>2</td>\n",
       "      <td>109</td>\n",
       "      <td>0</td>\n",
       "      <td>2.4</td>\n",
       "      <td>2</td>\n",
       "      <td>3</td>\n",
       "      <td>3</td>\n",
       "      <td>Presence</td>\n",
       "    </tr>\n",
       "    <tr>\n",
       "      <th>1</th>\n",
       "      <td>1</td>\n",
       "      <td>67</td>\n",
       "      <td>0</td>\n",
       "      <td>3</td>\n",
       "      <td>115</td>\n",
       "      <td>564</td>\n",
       "      <td>0</td>\n",
       "      <td>2</td>\n",
       "      <td>160</td>\n",
       "      <td>0</td>\n",
       "      <td>1.6</td>\n",
       "      <td>2</td>\n",
       "      <td>0</td>\n",
       "      <td>7</td>\n",
       "      <td>Absence</td>\n",
       "    </tr>\n",
       "    <tr>\n",
       "      <th>2</th>\n",
       "      <td>2</td>\n",
       "      <td>57</td>\n",
       "      <td>1</td>\n",
       "      <td>2</td>\n",
       "      <td>124</td>\n",
       "      <td>261</td>\n",
       "      <td>0</td>\n",
       "      <td>0</td>\n",
       "      <td>141</td>\n",
       "      <td>0</td>\n",
       "      <td>0.3</td>\n",
       "      <td>1</td>\n",
       "      <td>0</td>\n",
       "      <td>7</td>\n",
       "      <td>Presence</td>\n",
       "    </tr>\n",
       "    <tr>\n",
       "      <th>3</th>\n",
       "      <td>3</td>\n",
       "      <td>64</td>\n",
       "      <td>1</td>\n",
       "      <td>4</td>\n",
       "      <td>128</td>\n",
       "      <td>263</td>\n",
       "      <td>0</td>\n",
       "      <td>0</td>\n",
       "      <td>105</td>\n",
       "      <td>1</td>\n",
       "      <td>0.2</td>\n",
       "      <td>2</td>\n",
       "      <td>1</td>\n",
       "      <td>7</td>\n",
       "      <td>Absence</td>\n",
       "    </tr>\n",
       "    <tr>\n",
       "      <th>4</th>\n",
       "      <td>4</td>\n",
       "      <td>74</td>\n",
       "      <td>0</td>\n",
       "      <td>2</td>\n",
       "      <td>120</td>\n",
       "      <td>269</td>\n",
       "      <td>0</td>\n",
       "      <td>2</td>\n",
       "      <td>121</td>\n",
       "      <td>1</td>\n",
       "      <td>0.2</td>\n",
       "      <td>1</td>\n",
       "      <td>1</td>\n",
       "      <td>3</td>\n",
       "      <td>Absence</td>\n",
       "    </tr>\n",
       "    <tr>\n",
       "      <th>5</th>\n",
       "      <td>5</td>\n",
       "      <td>65</td>\n",
       "      <td>1</td>\n",
       "      <td>4</td>\n",
       "      <td>120</td>\n",
       "      <td>177</td>\n",
       "      <td>0</td>\n",
       "      <td>0</td>\n",
       "      <td>140</td>\n",
       "      <td>0</td>\n",
       "      <td>0.4</td>\n",
       "      <td>1</td>\n",
       "      <td>0</td>\n",
       "      <td>7</td>\n",
       "      <td>Absence</td>\n",
       "    </tr>\n",
       "    <tr>\n",
       "      <th>6</th>\n",
       "      <td>6</td>\n",
       "      <td>56</td>\n",
       "      <td>1</td>\n",
       "      <td>3</td>\n",
       "      <td>130</td>\n",
       "      <td>256</td>\n",
       "      <td>1</td>\n",
       "      <td>2</td>\n",
       "      <td>142</td>\n",
       "      <td>1</td>\n",
       "      <td>0.6</td>\n",
       "      <td>2</td>\n",
       "      <td>1</td>\n",
       "      <td>6</td>\n",
       "      <td>Presence</td>\n",
       "    </tr>\n",
       "    <tr>\n",
       "      <th>7</th>\n",
       "      <td>7</td>\n",
       "      <td>59</td>\n",
       "      <td>1</td>\n",
       "      <td>4</td>\n",
       "      <td>110</td>\n",
       "      <td>239</td>\n",
       "      <td>0</td>\n",
       "      <td>2</td>\n",
       "      <td>142</td>\n",
       "      <td>1</td>\n",
       "      <td>1.2</td>\n",
       "      <td>2</td>\n",
       "      <td>1</td>\n",
       "      <td>7</td>\n",
       "      <td>Presence</td>\n",
       "    </tr>\n",
       "    <tr>\n",
       "      <th>8</th>\n",
       "      <td>8</td>\n",
       "      <td>60</td>\n",
       "      <td>1</td>\n",
       "      <td>4</td>\n",
       "      <td>140</td>\n",
       "      <td>293</td>\n",
       "      <td>0</td>\n",
       "      <td>2</td>\n",
       "      <td>170</td>\n",
       "      <td>0</td>\n",
       "      <td>1.2</td>\n",
       "      <td>2</td>\n",
       "      <td>2</td>\n",
       "      <td>7</td>\n",
       "      <td>Presence</td>\n",
       "    </tr>\n",
       "    <tr>\n",
       "      <th>9</th>\n",
       "      <td>9</td>\n",
       "      <td>63</td>\n",
       "      <td>0</td>\n",
       "      <td>4</td>\n",
       "      <td>150</td>\n",
       "      <td>407</td>\n",
       "      <td>0</td>\n",
       "      <td>2</td>\n",
       "      <td>154</td>\n",
       "      <td>0</td>\n",
       "      <td>4.0</td>\n",
       "      <td>2</td>\n",
       "      <td>3</td>\n",
       "      <td>7</td>\n",
       "      <td>Presence</td>\n",
       "    </tr>\n",
       "  </tbody>\n",
       "</table>\n",
       "</div>"
      ],
      "text/plain": [
       "   index  Age  Sex  Chest pain type   BP  Cholesterol  FBS over 120  \\\n",
       "0      0   70    1                4  130          322             0   \n",
       "1      1   67    0                3  115          564             0   \n",
       "2      2   57    1                2  124          261             0   \n",
       "3      3   64    1                4  128          263             0   \n",
       "4      4   74    0                2  120          269             0   \n",
       "5      5   65    1                4  120          177             0   \n",
       "6      6   56    1                3  130          256             1   \n",
       "7      7   59    1                4  110          239             0   \n",
       "8      8   60    1                4  140          293             0   \n",
       "9      9   63    0                4  150          407             0   \n",
       "\n",
       "   EKG results  Max HR  Exercise angina  ST depression  Slope of ST  \\\n",
       "0            2     109                0            2.4            2   \n",
       "1            2     160                0            1.6            2   \n",
       "2            0     141                0            0.3            1   \n",
       "3            0     105                1            0.2            2   \n",
       "4            2     121                1            0.2            1   \n",
       "5            0     140                0            0.4            1   \n",
       "6            2     142                1            0.6            2   \n",
       "7            2     142                1            1.2            2   \n",
       "8            2     170                0            1.2            2   \n",
       "9            2     154                0            4.0            2   \n",
       "\n",
       "   Number of vessels fluro  Thallium Heart Disease  \n",
       "0                        3         3      Presence  \n",
       "1                        0         7       Absence  \n",
       "2                        0         7      Presence  \n",
       "3                        1         7       Absence  \n",
       "4                        1         3       Absence  \n",
       "5                        0         7       Absence  \n",
       "6                        1         6      Presence  \n",
       "7                        1         7      Presence  \n",
       "8                        2         7      Presence  \n",
       "9                        3         7      Presence  "
      ]
     },
     "execution_count": 3,
     "metadata": {},
     "output_type": "execute_result"
    }
   ],
   "source": [
    "import pandas as pd\n",
    "loan_data = pd.read_csv(\"/kaggle/input/predicting-heart-disease-risk-using-clinical-var/Heart_Disease_Prediction.csv\")\n",
    "loan_data.head(10)"
   ]
  },
  {
   "cell_type": "code",
   "execution_count": 4,
   "id": "b33cb682",
   "metadata": {
    "execution": {
     "iopub.execute_input": "2024-05-17T22:00:08.654046Z",
     "iopub.status.busy": "2024-05-17T22:00:08.653599Z",
     "iopub.status.idle": "2024-05-17T22:00:08.667089Z",
     "shell.execute_reply": "2024-05-17T22:00:08.665667Z"
    },
    "papermill": {
     "duration": 0.028491,
     "end_time": "2024-05-17T22:00:08.670966",
     "exception": false,
     "start_time": "2024-05-17T22:00:08.642475",
     "status": "completed"
    },
    "tags": []
   },
   "outputs": [
    {
     "data": {
      "text/plain": [
       "index                      0\n",
       "Age                        0\n",
       "Sex                        0\n",
       "Chest pain type            0\n",
       "BP                         0\n",
       "Cholesterol                0\n",
       "FBS over 120               0\n",
       "EKG results                0\n",
       "Max HR                     0\n",
       "Exercise angina            0\n",
       "ST depression              0\n",
       "Slope of ST                0\n",
       "Number of vessels fluro    0\n",
       "Thallium                   0\n",
       "Heart Disease              0\n",
       "dtype: int64"
      ]
     },
     "execution_count": 4,
     "metadata": {},
     "output_type": "execute_result"
    }
   ],
   "source": [
    "loan_data.isnull().sum()"
   ]
  },
  {
   "cell_type": "code",
   "execution_count": 5,
   "id": "85378752",
   "metadata": {
    "execution": {
     "iopub.execute_input": "2024-05-17T22:00:08.694104Z",
     "iopub.status.busy": "2024-05-17T22:00:08.693692Z",
     "iopub.status.idle": "2024-05-17T22:00:08.702033Z",
     "shell.execute_reply": "2024-05-17T22:00:08.700722Z"
    },
    "papermill": {
     "duration": 0.023202,
     "end_time": "2024-05-17T22:00:08.704703",
     "exception": false,
     "start_time": "2024-05-17T22:00:08.681501",
     "status": "completed"
    },
    "tags": []
   },
   "outputs": [
    {
     "data": {
      "text/plain": [
       "Index(['index', 'Age', 'Sex', 'Chest pain type', 'BP', 'Cholesterol',\n",
       "       'FBS over 120', 'EKG results', 'Max HR', 'Exercise angina',\n",
       "       'ST depression', 'Slope of ST', 'Number of vessels fluro', 'Thallium',\n",
       "       'Heart Disease'],\n",
       "      dtype='object')"
      ]
     },
     "execution_count": 5,
     "metadata": {},
     "output_type": "execute_result"
    }
   ],
   "source": [
    "label_encoder = preprocessing.LabelEncoder()\n",
    "loan_data.columns"
   ]
  },
  {
   "cell_type": "code",
   "execution_count": 6,
   "id": "c211a6c1",
   "metadata": {
    "execution": {
     "iopub.execute_input": "2024-05-17T22:00:08.726443Z",
     "iopub.status.busy": "2024-05-17T22:00:08.725978Z",
     "iopub.status.idle": "2024-05-17T22:00:08.732367Z",
     "shell.execute_reply": "2024-05-17T22:00:08.730727Z"
    },
    "papermill": {
     "duration": 0.022136,
     "end_time": "2024-05-17T22:00:08.736073",
     "exception": false,
     "start_time": "2024-05-17T22:00:08.713937",
     "status": "completed"
    },
    "tags": []
   },
   "outputs": [],
   "source": [
    "label_encoder_y = preprocessing.LabelEncoder() "
   ]
  },
  {
   "cell_type": "code",
   "execution_count": 7,
   "id": "4f84ed9a",
   "metadata": {
    "execution": {
     "iopub.execute_input": "2024-05-17T22:00:08.758101Z",
     "iopub.status.busy": "2024-05-17T22:00:08.757670Z",
     "iopub.status.idle": "2024-05-17T22:00:08.775167Z",
     "shell.execute_reply": "2024-05-17T22:00:08.773726Z"
    },
    "papermill": {
     "duration": 0.03366,
     "end_time": "2024-05-17T22:00:08.779826",
     "exception": false,
     "start_time": "2024-05-17T22:00:08.746166",
     "status": "completed"
    },
    "tags": []
   },
   "outputs": [
    {
     "name": "stdout",
     "output_type": "stream",
     "text": [
      "     Heart Disease\n",
      "0                1\n",
      "1                0\n",
      "2                1\n",
      "3                0\n",
      "4                0\n",
      "..             ...\n",
      "265              0\n",
      "266              0\n",
      "267              0\n",
      "268              0\n",
      "269              1\n",
      "\n",
      "[270 rows x 1 columns]\n"
     ]
    }
   ],
   "source": [
    "loan_data['Heart Disease'] = label_encoder.fit_transform(loan_data['Heart Disease'])\n",
    "print(loan_data[['Heart Disease']])"
   ]
  },
  {
   "cell_type": "code",
   "execution_count": 8,
   "id": "cdf56c52",
   "metadata": {
    "execution": {
     "iopub.execute_input": "2024-05-17T22:00:08.804335Z",
     "iopub.status.busy": "2024-05-17T22:00:08.803889Z",
     "iopub.status.idle": "2024-05-17T22:00:08.812284Z",
     "shell.execute_reply": "2024-05-17T22:00:08.811171Z"
    },
    "papermill": {
     "duration": 0.023528,
     "end_time": "2024-05-17T22:00:08.815044",
     "exception": false,
     "start_time": "2024-05-17T22:00:08.791516",
     "status": "completed"
    },
    "tags": []
   },
   "outputs": [
    {
     "data": {
      "text/plain": [
       "{'Age',\n",
       " 'BP',\n",
       " 'Chest pain type',\n",
       " 'Cholesterol',\n",
       " 'EKG results',\n",
       " 'Exercise angina',\n",
       " 'FBS over 120',\n",
       " 'Max HR',\n",
       " 'Number of vessels fluro',\n",
       " 'ST depression',\n",
       " 'Sex',\n",
       " 'Slope of ST',\n",
       " 'Thallium'}"
      ]
     },
     "execution_count": 8,
     "metadata": {},
     "output_type": "execute_result"
    }
   ],
   "source": [
    "selected_features = {'Age', 'Sex', 'Chest pain type', 'BP', 'Cholesterol',\n",
    "       'FBS over 120', 'EKG results', 'Max HR', 'Exercise angina',\n",
    "       'ST depression', 'Slope of ST', 'Number of vessels fluro', 'Thallium'}\n",
    "selected_features"
   ]
  },
  {
   "cell_type": "code",
   "execution_count": 9,
   "id": "64cc291e",
   "metadata": {
    "execution": {
     "iopub.execute_input": "2024-05-17T22:00:08.837285Z",
     "iopub.status.busy": "2024-05-17T22:00:08.836872Z",
     "iopub.status.idle": "2024-05-17T22:00:08.842689Z",
     "shell.execute_reply": "2024-05-17T22:00:08.841501Z"
    },
    "papermill": {
     "duration": 0.019632,
     "end_time": "2024-05-17T22:00:08.845117",
     "exception": false,
     "start_time": "2024-05-17T22:00:08.825485",
     "status": "completed"
    },
    "tags": []
   },
   "outputs": [],
   "source": [
    "from sklearn.preprocessing import StandardScaler"
   ]
  },
  {
   "cell_type": "code",
   "execution_count": 10,
   "id": "2ce5f951",
   "metadata": {
    "execution": {
     "iopub.execute_input": "2024-05-17T22:00:08.868940Z",
     "iopub.status.busy": "2024-05-17T22:00:08.868285Z",
     "iopub.status.idle": "2024-05-17T22:00:08.897083Z",
     "shell.execute_reply": "2024-05-17T22:00:08.895245Z"
    },
    "papermill": {
     "duration": 0.043014,
     "end_time": "2024-05-17T22:00:08.899900",
     "exception": false,
     "start_time": "2024-05-17T22:00:08.856886",
     "status": "completed"
    },
    "tags": []
   },
   "outputs": [
    {
     "name": "stdout",
     "output_type": "stream",
     "text": [
      "Scaled Feature Variables (x):\n",
      "   index       Age       Sex  Chest pain type        BP  Cholesterol  \\\n",
      "0      0  1.712094  0.689500         0.870928 -0.075410     1.402212   \n",
      "1      1  1.382140 -1.450327        -0.183559 -0.916759     6.093004   \n",
      "2      2  0.282294  0.689500        -1.238045 -0.411950     0.219823   \n",
      "3      3  1.052186  0.689500         0.870928 -0.187590     0.258589   \n",
      "4      4  2.152032 -1.450327        -1.238045 -0.636310     0.374890   \n",
      "\n",
      "   FBS over 120  EKG results    Max HR  Exercise angina  ST depression  \\\n",
      "0     -0.417029     0.981664 -1.759208        -0.701222       1.181012   \n",
      "1     -0.417029     0.981664  0.446409        -0.701222       0.481153   \n",
      "2     -0.417029    -1.026285 -0.375291        -0.701222      -0.656118   \n",
      "3     -0.417029    -1.026285 -1.932198         1.426081      -0.743600   \n",
      "4     -0.417029     0.981664 -1.240239         1.426081      -0.743600   \n",
      "\n",
      "   Slope of ST  Number of vessels fluro  Thallium  \n",
      "0     0.676419                 2.472682 -0.875706  \n",
      "1     0.676419                -0.711535  1.189277  \n",
      "2    -0.954234                -0.711535  1.189277  \n",
      "3     0.676419                 0.349871  1.189277  \n",
      "4    -0.954234                 0.349871 -0.875706  \n",
      "\n",
      "Target Variable (y):\n",
      "0    1\n",
      "1    0\n",
      "2    1\n",
      "3    0\n",
      "4    0\n",
      "Name: Heart Disease, dtype: int64\n"
     ]
    }
   ],
   "source": [
    "scaler = StandardScaler()\n",
    "x = loan_data.drop(columns=['Heart Disease'])  \n",
    "y = loan_data['Heart Disease']  \n",
    "numerical_columns = ['Age', 'Sex', 'Chest pain type', 'BP', 'Cholesterol',\n",
    "       'FBS over 120', 'EKG results', 'Max HR', 'Exercise angina','ST depression', 'Slope of ST', 'Number of vessels fluro', 'Thallium']\n",
    "\n",
    "x[numerical_columns] = scaler.fit_transform(x[numerical_columns])\n",
    "\n",
    "\n",
    "print(\"Scaled Feature Variables (x):\")\n",
    "print(x.head())\n",
    "\n",
    "print(\"\\nTarget Variable (y):\")\n",
    "print(y.head())"
   ]
  },
  {
   "cell_type": "code",
   "execution_count": 11,
   "id": "1c2ff267",
   "metadata": {
    "execution": {
     "iopub.execute_input": "2024-05-17T22:00:08.921555Z",
     "iopub.status.busy": "2024-05-17T22:00:08.920708Z",
     "iopub.status.idle": "2024-05-17T22:00:08.983451Z",
     "shell.execute_reply": "2024-05-17T22:00:08.981846Z"
    },
    "papermill": {
     "duration": 0.077299,
     "end_time": "2024-05-17T22:00:08.986541",
     "exception": false,
     "start_time": "2024-05-17T22:00:08.909242",
     "status": "completed"
    },
    "tags": []
   },
   "outputs": [],
   "source": [
    "from sklearn.decomposition import PCA\n",
    "n_components = 5  \n",
    "pca = PCA(n_components=n_components)\n",
    "principal_components = pca.fit_transform(x)\n",
    "\n",
    "explained_variance_ratio = pca.explained_variance_ratio_\n",
    "cumulative_variance_ratio = np.cumsum(explained_variance_ratio)"
   ]
  },
  {
   "cell_type": "code",
   "execution_count": 12,
   "id": "9427c577",
   "metadata": {
    "execution": {
     "iopub.execute_input": "2024-05-17T22:00:09.007418Z",
     "iopub.status.busy": "2024-05-17T22:00:09.006623Z",
     "iopub.status.idle": "2024-05-17T22:00:09.433486Z",
     "shell.execute_reply": "2024-05-17T22:00:09.432248Z"
    },
    "papermill": {
     "duration": 0.44069,
     "end_time": "2024-05-17T22:00:09.436548",
     "exception": false,
     "start_time": "2024-05-17T22:00:08.995858",
     "status": "completed"
    },
    "tags": []
   },
   "outputs": [
    {
     "data": {
      "image/png": "[encoded data removed]",
      "text/plain": [
       "<Figure size 800x600 with 1 Axes>"
      ]
     },
     "metadata": {},
     "output_type": "display_data"
    }
   ],
   "source": [
    "projected_data = pd.DataFrame(data=principal_components, columns=[f'PC{i}' for i in range(1, n_components + 1)])\n",
    "projected_data['Target'] = loan_data['Heart Disease']  # Include the target column if applicable\n",
    "\n",
    "# Visualize the projected data\n",
    "plt.figure(figsize=(8, 6))\n",
    "for target_value in loan_data['Heart Disease'].unique():\n",
    "    subset = projected_data[projected_data['Target'] == target_value]\n",
    "    plt.scatter(subset['PC1'], subset['PC2'], label=f'Target {target_value}')\n",
    "\n",
    "plt.title(f'Data Projected on {2} Principal Components')\n",
    "plt.xlabel('Principal Component 1')\n",
    "plt.ylabel('Principal Component 2')\n",
    "plt.legend()\n",
    "plt.show()"
   ]
  },
  {
   "cell_type": "code",
   "execution_count": 13,
   "id": "90441f4f",
   "metadata": {
    "execution": {
     "iopub.execute_input": "2024-05-17T22:00:09.458894Z",
     "iopub.status.busy": "2024-05-17T22:00:09.458117Z",
     "iopub.status.idle": "2024-05-17T22:00:09.642475Z",
     "shell.execute_reply": "2024-05-17T22:00:09.641151Z"
    },
    "papermill": {
     "duration": 0.198894,
     "end_time": "2024-05-17T22:00:09.645405",
     "exception": false,
     "start_time": "2024-05-17T22:00:09.446511",
     "status": "completed"
    },
    "tags": []
   },
   "outputs": [],
   "source": [
    "from sklearn.metrics import silhouette_score\n",
    "from sklearn.cluster import KMeans\n",
    "optimal_k = 2"
   ]
  },
  {
   "cell_type": "code",
   "execution_count": 14,
   "id": "99f09aa9",
   "metadata": {
    "execution": {
     "iopub.execute_input": "2024-05-17T22:00:09.668175Z",
     "iopub.status.busy": "2024-05-17T22:00:09.667285Z",
     "iopub.status.idle": "2024-05-17T22:00:09.749540Z",
     "shell.execute_reply": "2024-05-17T22:00:09.748430Z"
    },
    "papermill": {
     "duration": 0.096839,
     "end_time": "2024-05-17T22:00:09.752413",
     "exception": false,
     "start_time": "2024-05-17T22:00:09.655574",
     "status": "completed"
    },
    "tags": []
   },
   "outputs": [
    {
     "name": "stderr",
     "output_type": "stream",
     "text": [
      "/opt/conda/lib/python3.10/site-packages/sklearn/cluster/_kmeans.py:870: FutureWarning: The default value of `n_init` will change from 10 to 'auto' in 1.4. Set the value of `n_init` explicitly to suppress the warning\n",
      "  warnings.warn(\n"
     ]
    }
   ],
   "source": [
    "kmeans = KMeans(n_clusters=optimal_k)\n",
    "kmeans_labels = kmeans.fit_predict(x)"
   ]
  },
  {
   "cell_type": "code",
   "execution_count": 15,
   "id": "f5dc7c74",
   "metadata": {
    "execution": {
     "iopub.execute_input": "2024-05-17T22:00:09.776668Z",
     "iopub.status.busy": "2024-05-17T22:00:09.776126Z",
     "iopub.status.idle": "2024-05-17T22:00:10.281683Z",
     "shell.execute_reply": "2024-05-17T22:00:10.279861Z"
    },
    "papermill": {
     "duration": 0.520321,
     "end_time": "2024-05-17T22:00:10.284281",
     "exception": true,
     "start_time": "2024-05-17T22:00:09.763960",
     "status": "failed"
    },
    "tags": []
   },
   "outputs": [
    {
     "ename": "NameError",
     "evalue": "name 'davies_bouldin_score' is not defined",
     "output_type": "error",
     "traceback": [
      "\u001b[0;31m---------------------------------------------------------------------------\u001b[0m",
      "\u001b[0;31mNameError\u001b[0m                                 Traceback (most recent call last)",
      "Cell \u001b[0;32mIn[15], line 1\u001b[0m\n\u001b[0;32m----> 1\u001b[0m dbi_kmeans \u001b[38;5;241m=\u001b[39m \u001b[43mdavies_bouldin_score\u001b[49m(x, kmeans_labels)\n",
      "\u001b[0;31mNameError\u001b[0m: name 'davies_bouldin_score' is not defined"
     ]
    }
   ],
   "source": [
    "dbi_kmeans = davies_bouldin_score(x, kmeans_labels)"
   ]
  },
  {
   "cell_type": "code",
   "execution_count": null,
   "id": "e6ec48d9",
   "metadata": {
    "execution": {
     "iopub.execute_input": "2024-05-17T21:26:13.000924Z",
     "iopub.status.busy": "2024-05-17T21:26:13.000203Z",
     "iopub.status.idle": "2024-05-17T21:26:13.018407Z",
     "shell.execute_reply": "2024-05-17T21:26:13.017115Z",
     "shell.execute_reply.started": "2024-05-17T21:26:13.000889Z"
    },
    "papermill": {
     "duration": null,
     "end_time": null,
     "exception": null,
     "start_time": null,
     "status": "pending"
    },
    "tags": []
   },
   "outputs": [],
   "source": [
    "silhouette_kmeans = silhouette_score(x, kmeans_labels)"
   ]
  },
  {
   "cell_type": "code",
   "execution_count": null,
   "id": "63278c68",
   "metadata": {
    "execution": {
     "iopub.execute_input": "2024-05-17T21:27:21.484651Z",
     "iopub.status.busy": "2024-05-17T21:27:21.483738Z",
     "iopub.status.idle": "2024-05-17T21:27:21.720927Z",
     "shell.execute_reply": "2024-05-17T21:27:21.719781Z",
     "shell.execute_reply.started": "2024-05-17T21:27:21.484609Z"
    },
    "papermill": {
     "duration": null,
     "end_time": null,
     "exception": null,
     "start_time": null,
     "status": "pending"
    },
    "tags": []
   },
   "outputs": [],
   "source": [
    "pca = PCA(n_components=2)\n",
    "X_pca = pca.fit_transform(x)\n",
    "plt.figure(figsize=(8, 6))\n",
    "\n",
    "plt.scatter(X_pca[:, 0], X_pca[:, 1], c=kmeans_labels, cmap='viridis', edgecolors='k', s=50)\n",
    "plt.title('PCA Sonrası K-means')\n",
    "plt.xlabel('Principal Component 1')\n",
    "plt.ylabel('Principal Component 2')\n",
    "plt.show()\n",
    "print(f\"K-means - Silhouette Skoru: {silhouette_kmeans}\")"
   ]
  },
  {
   "cell_type": "code",
   "execution_count": null,
   "id": "65662604",
   "metadata": {
    "execution": {
     "iopub.execute_input": "2024-05-17T21:27:45.142002Z",
     "iopub.status.busy": "2024-05-17T21:27:45.141569Z",
     "iopub.status.idle": "2024-05-17T21:27:45.150170Z",
     "shell.execute_reply": "2024-05-17T21:27:45.149222Z",
     "shell.execute_reply.started": "2024-05-17T21:27:45.141970Z"
    },
    "papermill": {
     "duration": null,
     "end_time": null,
     "exception": null,
     "start_time": null,
     "status": "pending"
    },
    "tags": []
   },
   "outputs": [],
   "source": [
    "x_train, x_test, y_train, y_test = train_test_split(x, y)"
   ]
  },
  {
   "cell_type": "code",
   "execution_count": null,
   "id": "c06bd1a2",
   "metadata": {
    "execution": {
     "iopub.execute_input": "2024-05-17T21:27:55.677974Z",
     "iopub.status.busy": "2024-05-17T21:27:55.677600Z",
     "iopub.status.idle": "2024-05-17T21:27:55.688194Z",
     "shell.execute_reply": "2024-05-17T21:27:55.687060Z",
     "shell.execute_reply.started": "2024-05-17T21:27:55.677945Z"
    },
    "papermill": {
     "duration": null,
     "end_time": null,
     "exception": null,
     "start_time": null,
     "status": "pending"
    },
    "tags": []
   },
   "outputs": [],
   "source": [
    "pca = PCA(n_components=5)\n",
    "x_pca = pca.fit_transform(x)\n",
    "x_train_pca, x_test_pca, y_train_pca, y_test_pca = train_test_split(x_pca, y)"
   ]
  },
  {
   "cell_type": "code",
   "execution_count": null,
   "id": "c0628584",
   "metadata": {
    "execution": {
     "iopub.execute_input": "2024-05-17T21:30:27.418617Z",
     "iopub.status.busy": "2024-05-17T21:30:27.418257Z",
     "iopub.status.idle": "2024-05-17T21:30:27.423800Z",
     "shell.execute_reply": "2024-05-17T21:30:27.422808Z",
     "shell.execute_reply.started": "2024-05-17T21:30:27.418591Z"
    },
    "papermill": {
     "duration": null,
     "end_time": null,
     "exception": null,
     "start_time": null,
     "status": "pending"
    },
    "tags": []
   },
   "outputs": [],
   "source": [
    "import numpy as np\n",
    "import matplotlib.pyplot as plt\n",
    "from sklearn.linear_model import LogisticRegression\n",
    "from sklearn.metrics import accuracy_score, precision_score, recall_score, f1_score, confusion_matrix, roc_curve, roc_auc_score\n",
    "import matplotlib.pyplot as plt\n",
    "import seaborn as sns"
   ]
  },
  {
   "cell_type": "code",
   "execution_count": null,
   "id": "6511a79c",
   "metadata": {
    "execution": {
     "iopub.execute_input": "2024-05-17T21:30:32.942008Z",
     "iopub.status.busy": "2024-05-17T21:30:32.941557Z",
     "iopub.status.idle": "2024-05-17T21:30:32.953195Z",
     "shell.execute_reply": "2024-05-17T21:30:32.952146Z",
     "shell.execute_reply.started": "2024-05-17T21:30:32.941974Z"
    },
    "papermill": {
     "duration": null,
     "end_time": null,
     "exception": null,
     "start_time": null,
     "status": "pending"
    },
    "tags": []
   },
   "outputs": [],
   "source": [
    "\n",
    "def train_model(x_train,y_train,x_test, y_test,model,plot_boundary=False, title=\"\"):\n",
    "    # Train the logistic regression model\n",
    "    model.fit(x_train, y_train)\n",
    "\n",
    "    # Predict on the test set\n",
    "    y_pred = model.predict(x_test)\n",
    "\n",
    "    # Calculate accuracy\n",
    "    accuracy = accuracy_score(y_test, y_pred)\n",
    "\n",
    "    # Calculate precision, recall, and F1 score\n",
    "    precision = precision_score(y_test, y_pred, average='weighted')\n",
    "    recall = recall_score(y_test, y_pred, average='weighted')\n",
    "    f1 = f1_score(y_test, y_pred, average='weighted')\n",
    "\n",
    "\n",
    "    # Generate a confusion matrix\n",
    "    conf_matrix = confusion_matrix(y_test, y_pred)\n",
    "\n",
    "    # Plot the confusion matrix\n",
    "    plt.figure(figsize=(8, 6))\n",
    "    sns.heatmap(conf_matrix, annot=True, fmt='d', cmap='Blues')\n",
    "    plt.xlabel('Predicted')\n",
    "    plt.ylabel('Actual')\n",
    "    plt.title('Confusion Matrix')\n",
    "    plt.show()\n",
    "    \n",
    "    y_probs = model.predict_proba(x_test)[:, 1]\n",
    "    fpr, tpr, _ = roc_curve(y_test, y_probs)\n",
    "    auc = roc_auc_score(y_test, y_probs)\n",
    "\n",
    "\n",
    "    plt.subplot(1, 2, 2)\n",
    "    plt.plot(fpr, tpr, color='darkorange', lw=2, label='ROC curve (AUC = {:.2f})'.format(auc))\n",
    "    plt.plot([0, 1], [0, 1], color='navy', lw=2, linestyle='--')\n",
    "    plt.xlabel('False Positive Rate')\n",
    "    plt.ylabel('True Positive Rate')\n",
    "    plt.title('Receiver Operating Characteristic')\n",
    "    plt.legend(loc=\"lower right\")\n",
    "\n",
    "    plt.tight_layout()\n",
    "    plt.show()\n",
    "   \n",
    "\n",
    "    print(\"Accuracy:\", accuracy)\n",
    "    print(\"Precision:\", precision)\n",
    "    print(\"Recall:\", recall)\n",
    "    print(\"F1 Score:\", f1)"
   ]
  },
  {
   "cell_type": "code",
   "execution_count": null,
   "id": "8369fee5",
   "metadata": {
    "execution": {
     "iopub.execute_input": "2024-05-17T21:30:55.244058Z",
     "iopub.status.busy": "2024-05-17T21:30:55.243677Z",
     "iopub.status.idle": "2024-05-17T21:30:55.820097Z",
     "shell.execute_reply": "2024-05-17T21:30:55.819188Z",
     "shell.execute_reply.started": "2024-05-17T21:30:55.244029Z"
    },
    "papermill": {
     "duration": null,
     "end_time": null,
     "exception": null,
     "start_time": null,
     "status": "pending"
    },
    "tags": []
   },
   "outputs": [],
   "source": [
    "logistic_reg = LogisticRegression()\n",
    "train_model(x_train, y_train, x_test, y_test, logistic_reg)\n"
   ]
  }
 ],
 "metadata": {
  "kaggle": {
   "accelerator": "none",
   "dataSources": [
    {
     "datasetId": 2807336,
     "sourceId": 4843862,
     "sourceType": "datasetVersion"
    }
   ],
   "dockerImageVersionId": 30698,
   "isGpuEnabled": false,
   "isInternetEnabled": true,
   "language": "python",
   "sourceType": "notebook"
  },
  "kernelspec": {
   "display_name": "Python 3",
   "language": "python",
   "name": "python3"
  },
  "language_info": {
   "codemirror_mode": {
    "name": "ipython",
    "version": 3
   },
   "file_extension": ".py",
   "mimetype": "text/x-python",
   "name": "python",
   "nbconvert_exporter": "python",
   "pygments_lexer": "ipython3",
   "version": "3.10.13"
  },
  "papermill": {
   "default_parameters": {},
   "duration": 9.490466,
   "end_time": "2024-05-17T22:00:11.423937",
   "environment_variables": {},
   "exception": true,
   "input_path": "__notebook__.ipynb",
   "output_path": "__notebook__.ipynb",
   "parameters": {},
   "start_time": "2024-05-17T22:00:01.933471",
   "version": "2.5.0"
  }
 },
 "nbformat": 4,
 "nbformat_minor": 5
}
