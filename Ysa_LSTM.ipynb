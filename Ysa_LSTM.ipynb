{
 "cells": [
  {
   "cell_type": "code",
   "execution_count": 1,
   "id": "a84c6a63",
   "metadata": {
    "_cell_guid": "b1076dfc-b9ad-4769-8c92-a6c4dae69d19",
    "_uuid": "8f2839f25d086af736a60e9eeb907d3b93b6e0e5",
    "execution": {
     "iopub.execute_input": "2024-05-12T14:38:50.369082Z",
     "iopub.status.busy": "2024-05-12T14:38:50.368695Z",
     "iopub.status.idle": "2024-05-12T14:38:51.274095Z",
     "shell.execute_reply": "2024-05-12T14:38:51.272929Z"
    },
    "papermill": {
     "duration": 0.918145,
     "end_time": "2024-05-12T14:38:51.278130",
     "exception": false,
     "start_time": "2024-05-12T14:38:50.359985",
     "status": "completed"
    },
    "tags": []
   },
   "outputs": [
    {
     "name": "stdout",
     "output_type": "stream",
     "text": [
      "/kaggle/input/loan-approval-prediction-dataset/loan_approval_dataset.csv\n"
     ]
    }
   ],
   "source": [
    "# This Python 3 environment comes with many helpful analytics libraries installed\n",
    "# It is defined by the kaggle/python Docker image: https://github.com/kaggle/docker-python\n",
    "# For example, here's several helpful packages to load\n",
    "\n",
    "import numpy as np # linear algebra\n",
    "import pandas as pd # data processing, CSV file I/O (e.g. pd.read_csv)\n",
    "\n",
    "# Input data files are available in the read-only \"../input/\" directory\n",
    "# For example, running this (by clicking run or pressing Shift+Enter) will list all files under the input directory\n",
    "\n",
    "import os\n",
    "for dirname, _, filenames in os.walk('/kaggle/input'):\n",
    "    for filename in filenames:\n",
    "        print(os.path.join(dirname, filename))\n",
    "\n",
    "# You can write up to 20GB to the current directory (/kaggle/working/) that gets preserved as output when you create a version using \"Save & Run All\" \n",
    "# You can also write temporary files to /kaggle/temp/, but they won't be saved outside of the current session"
   ]
  },
  {
   "cell_type": "code",
   "execution_count": 2,
   "id": "4d6411d4",
   "metadata": {
    "execution": {
     "iopub.execute_input": "2024-05-12T14:38:51.294240Z",
     "iopub.status.busy": "2024-05-12T14:38:51.293730Z",
     "iopub.status.idle": "2024-05-12T14:39:05.972450Z",
     "shell.execute_reply": "2024-05-12T14:39:05.971254Z"
    },
    "papermill": {
     "duration": 14.690211,
     "end_time": "2024-05-12T14:39:05.975733",
     "exception": false,
     "start_time": "2024-05-12T14:38:51.285522",
     "status": "completed"
    },
    "tags": []
   },
   "outputs": [
    {
     "name": "stderr",
     "output_type": "stream",
     "text": [
      "2024-05-12 14:38:54.839618: E external/local_xla/xla/stream_executor/cuda/cuda_dnn.cc:9261] Unable to register cuDNN factory: Attempting to register factory for plugin cuDNN when one has already been registered\n",
      "2024-05-12 14:38:54.839744: E external/local_xla/xla/stream_executor/cuda/cuda_fft.cc:607] Unable to register cuFFT factory: Attempting to register factory for plugin cuFFT when one has already been registered\n",
      "2024-05-12 14:38:55.008444: E external/local_xla/xla/stream_executor/cuda/cuda_blas.cc:1515] Unable to register cuBLAS factory: Attempting to register factory for plugin cuBLAS when one has already been registered\n"
     ]
    }
   ],
   "source": [
    "import pandas as pd\n",
    "from sklearn.model_selection import train_test_split\n",
    "from sklearn.preprocessing import StandardScaler\n",
    "from keras.models import Sequential\n",
    "from keras.layers import LSTM, Dense, Dropout\n",
    "from keras.optimizers import Adam"
   ]
  },
  {
   "cell_type": "code",
   "execution_count": 3,
   "id": "507480ac",
   "metadata": {
    "execution": {
     "iopub.execute_input": "2024-05-12T14:39:05.995590Z",
     "iopub.status.busy": "2024-05-12T14:39:05.994273Z",
     "iopub.status.idle": "2024-05-12T14:39:06.047497Z",
     "shell.execute_reply": "2024-05-12T14:39:06.046309Z"
    },
    "papermill": {
     "duration": 0.064566,
     "end_time": "2024-05-12T14:39:06.050055",
     "exception": false,
     "start_time": "2024-05-12T14:39:05.985489",
     "status": "completed"
    },
    "tags": []
   },
   "outputs": [
    {
     "data": {
      "text/html": [
       "<div>\n",
       "<style scoped>\n",
       "    .dataframe tbody tr th:only-of-type {\n",
       "        vertical-align: middle;\n",
       "    }\n",
       "\n",
       "    .dataframe tbody tr th {\n",
       "        vertical-align: top;\n",
       "    }\n",
       "\n",
       "    .dataframe thead th {\n",
       "        text-align: right;\n",
       "    }\n",
       "</style>\n",
       "<table border=\"1\" class=\"dataframe\">\n",
       "  <thead>\n",
       "    <tr style=\"text-align: right;\">\n",
       "      <th></th>\n",
       "      <th>loan_id</th>\n",
       "      <th>no_of_dependents</th>\n",
       "      <th>education</th>\n",
       "      <th>self_employed</th>\n",
       "      <th>income_annum</th>\n",
       "      <th>loan_amount</th>\n",
       "      <th>loan_term</th>\n",
       "      <th>cibil_score</th>\n",
       "      <th>residential_assets_value</th>\n",
       "      <th>commercial_assets_value</th>\n",
       "      <th>luxury_assets_value</th>\n",
       "      <th>bank_asset_value</th>\n",
       "      <th>loan_status</th>\n",
       "    </tr>\n",
       "  </thead>\n",
       "  <tbody>\n",
       "    <tr>\n",
       "      <th>0</th>\n",
       "      <td>1</td>\n",
       "      <td>2</td>\n",
       "      <td>Graduate</td>\n",
       "      <td>No</td>\n",
       "      <td>9600000</td>\n",
       "      <td>29900000</td>\n",
       "      <td>12</td>\n",
       "      <td>778</td>\n",
       "      <td>2400000</td>\n",
       "      <td>17600000</td>\n",
       "      <td>22700000</td>\n",
       "      <td>8000000</td>\n",
       "      <td>Approved</td>\n",
       "    </tr>\n",
       "    <tr>\n",
       "      <th>1</th>\n",
       "      <td>2</td>\n",
       "      <td>0</td>\n",
       "      <td>Not Graduate</td>\n",
       "      <td>Yes</td>\n",
       "      <td>4100000</td>\n",
       "      <td>12200000</td>\n",
       "      <td>8</td>\n",
       "      <td>417</td>\n",
       "      <td>2700000</td>\n",
       "      <td>2200000</td>\n",
       "      <td>8800000</td>\n",
       "      <td>3300000</td>\n",
       "      <td>Rejected</td>\n",
       "    </tr>\n",
       "    <tr>\n",
       "      <th>2</th>\n",
       "      <td>3</td>\n",
       "      <td>3</td>\n",
       "      <td>Graduate</td>\n",
       "      <td>No</td>\n",
       "      <td>9100000</td>\n",
       "      <td>29700000</td>\n",
       "      <td>20</td>\n",
       "      <td>506</td>\n",
       "      <td>7100000</td>\n",
       "      <td>4500000</td>\n",
       "      <td>33300000</td>\n",
       "      <td>12800000</td>\n",
       "      <td>Rejected</td>\n",
       "    </tr>\n",
       "    <tr>\n",
       "      <th>3</th>\n",
       "      <td>4</td>\n",
       "      <td>3</td>\n",
       "      <td>Graduate</td>\n",
       "      <td>No</td>\n",
       "      <td>8200000</td>\n",
       "      <td>30700000</td>\n",
       "      <td>8</td>\n",
       "      <td>467</td>\n",
       "      <td>18200000</td>\n",
       "      <td>3300000</td>\n",
       "      <td>23300000</td>\n",
       "      <td>7900000</td>\n",
       "      <td>Rejected</td>\n",
       "    </tr>\n",
       "    <tr>\n",
       "      <th>4</th>\n",
       "      <td>5</td>\n",
       "      <td>5</td>\n",
       "      <td>Not Graduate</td>\n",
       "      <td>Yes</td>\n",
       "      <td>9800000</td>\n",
       "      <td>24200000</td>\n",
       "      <td>20</td>\n",
       "      <td>382</td>\n",
       "      <td>12400000</td>\n",
       "      <td>8200000</td>\n",
       "      <td>29400000</td>\n",
       "      <td>5000000</td>\n",
       "      <td>Rejected</td>\n",
       "    </tr>\n",
       "  </tbody>\n",
       "</table>\n",
       "</div>"
      ],
      "text/plain": [
       "   loan_id   no_of_dependents      education  self_employed   income_annum  \\\n",
       "0        1                  2       Graduate             No        9600000   \n",
       "1        2                  0   Not Graduate            Yes        4100000   \n",
       "2        3                  3       Graduate             No        9100000   \n",
       "3        4                  3       Graduate             No        8200000   \n",
       "4        5                  5   Not Graduate            Yes        9800000   \n",
       "\n",
       "    loan_amount   loan_term   cibil_score   residential_assets_value  \\\n",
       "0      29900000          12           778                    2400000   \n",
       "1      12200000           8           417                    2700000   \n",
       "2      29700000          20           506                    7100000   \n",
       "3      30700000           8           467                   18200000   \n",
       "4      24200000          20           382                   12400000   \n",
       "\n",
       "    commercial_assets_value   luxury_assets_value   bank_asset_value  \\\n",
       "0                  17600000              22700000            8000000   \n",
       "1                   2200000               8800000            3300000   \n",
       "2                   4500000              33300000           12800000   \n",
       "3                   3300000              23300000            7900000   \n",
       "4                   8200000              29400000            5000000   \n",
       "\n",
       "   loan_status  \n",
       "0     Approved  \n",
       "1     Rejected  \n",
       "2     Rejected  \n",
       "3     Rejected  \n",
       "4     Rejected  "
      ]
     },
     "execution_count": 3,
     "metadata": {},
     "output_type": "execute_result"
    }
   ],
   "source": [
    "import pandas as pd\n",
    "loan_data = pd.read_csv(\"/kaggle/input/loan-approval-prediction-dataset/loan_approval_dataset.csv\")\n",
    "loan_data.head()"
   ]
  },
  {
   "cell_type": "code",
   "execution_count": 4,
   "id": "17058941",
   "metadata": {
    "execution": {
     "iopub.execute_input": "2024-05-12T14:39:06.066147Z",
     "iopub.status.busy": "2024-05-12T14:39:06.065751Z",
     "iopub.status.idle": "2024-05-12T14:39:06.075708Z",
     "shell.execute_reply": "2024-05-12T14:39:06.074634Z"
    },
    "papermill": {
     "duration": 0.021165,
     "end_time": "2024-05-12T14:39:06.078486",
     "exception": false,
     "start_time": "2024-05-12T14:39:06.057321",
     "status": "completed"
    },
    "tags": []
   },
   "outputs": [],
   "source": [
    "# Eksik değerleri doldurma veya çıkarma\n",
    "loan_data.dropna(inplace=True)"
   ]
  },
  {
   "cell_type": "code",
   "execution_count": 5,
   "id": "645648a9",
   "metadata": {
    "execution": {
     "iopub.execute_input": "2024-05-12T14:39:06.094858Z",
     "iopub.status.busy": "2024-05-12T14:39:06.094367Z",
     "iopub.status.idle": "2024-05-12T14:39:06.100035Z",
     "shell.execute_reply": "2024-05-12T14:39:06.098894Z"
    },
    "papermill": {
     "duration": 0.016792,
     "end_time": "2024-05-12T14:39:06.102521",
     "exception": false,
     "start_time": "2024-05-12T14:39:06.085729",
     "status": "completed"
    },
    "tags": []
   },
   "outputs": [],
   "source": [
    "categorical_cols = [\" education\", \" self_employed\", \" loan_status\"]"
   ]
  },
  {
   "cell_type": "code",
   "execution_count": 6,
   "id": "7f48fbfc",
   "metadata": {
    "execution": {
     "iopub.execute_input": "2024-05-12T14:39:06.118546Z",
     "iopub.status.busy": "2024-05-12T14:39:06.117675Z",
     "iopub.status.idle": "2024-05-12T14:39:06.137274Z",
     "shell.execute_reply": "2024-05-12T14:39:06.136211Z"
    },
    "papermill": {
     "duration": 0.03046,
     "end_time": "2024-05-12T14:39:06.139948",
     "exception": false,
     "start_time": "2024-05-12T14:39:06.109488",
     "status": "completed"
    },
    "tags": []
   },
   "outputs": [],
   "source": [
    "# One-hot encoding\n",
    "data_encoded = pd.get_dummies(loan_data, columns=categorical_cols, drop_first=True)"
   ]
  },
  {
   "cell_type": "code",
   "execution_count": 7,
   "id": "9808ed36",
   "metadata": {
    "execution": {
     "iopub.execute_input": "2024-05-12T14:39:06.156913Z",
     "iopub.status.busy": "2024-05-12T14:39:06.155808Z",
     "iopub.status.idle": "2024-05-12T14:39:06.168253Z",
     "shell.execute_reply": "2024-05-12T14:39:06.167015Z"
    },
    "papermill": {
     "duration": 0.023817,
     "end_time": "2024-05-12T14:39:06.171133",
     "exception": false,
     "start_time": "2024-05-12T14:39:06.147316",
     "status": "completed"
    },
    "tags": []
   },
   "outputs": [
    {
     "name": "stdout",
     "output_type": "stream",
     "text": [
      "   loan_id   no_of_dependents   income_annum   loan_amount   loan_term  \\\n",
      "0        1                  2        9600000      29900000          12   \n",
      "1        2                  0        4100000      12200000           8   \n",
      "2        3                  3        9100000      29700000          20   \n",
      "3        4                  3        8200000      30700000           8   \n",
      "4        5                  5        9800000      24200000          20   \n",
      "\n",
      "    cibil_score   residential_assets_value   commercial_assets_value  \\\n",
      "0           778                    2400000                  17600000   \n",
      "1           417                    2700000                   2200000   \n",
      "2           506                    7100000                   4500000   \n",
      "3           467                   18200000                   3300000   \n",
      "4           382                   12400000                   8200000   \n",
      "\n",
      "    luxury_assets_value   bank_asset_value   education_ Not Graduate  \\\n",
      "0              22700000            8000000                     False   \n",
      "1               8800000            3300000                      True   \n",
      "2              33300000           12800000                     False   \n",
      "3              23300000            7900000                     False   \n",
      "4              29400000            5000000                      True   \n",
      "\n",
      "    self_employed_ Yes   loan_status_ Rejected  \n",
      "0                False                   False  \n",
      "1                 True                    True  \n",
      "2                False                    True  \n",
      "3                False                    True  \n",
      "4                 True                    True  \n"
     ]
    }
   ],
   "source": [
    "print(data_encoded.head())"
   ]
  },
  {
   "cell_type": "code",
   "execution_count": 8,
   "id": "c139fee6",
   "metadata": {
    "execution": {
     "iopub.execute_input": "2024-05-12T14:39:06.188306Z",
     "iopub.status.busy": "2024-05-12T14:39:06.187419Z",
     "iopub.status.idle": "2024-05-12T14:39:06.194430Z",
     "shell.execute_reply": "2024-05-12T14:39:06.193247Z"
    },
    "papermill": {
     "duration": 0.01787,
     "end_time": "2024-05-12T14:39:06.196508",
     "exception": false,
     "start_time": "2024-05-12T14:39:06.178638",
     "status": "completed"
    },
    "tags": []
   },
   "outputs": [],
   "source": [
    "X = data_encoded.drop(\" loan_status_ Rejected\", axis=1) \n",
    "y = data_encoded[\" loan_status_ Rejected\"]"
   ]
  },
  {
   "cell_type": "code",
   "execution_count": 9,
   "id": "2f0fd6fa",
   "metadata": {
    "execution": {
     "iopub.execute_input": "2024-05-12T14:39:06.215115Z",
     "iopub.status.busy": "2024-05-12T14:39:06.214742Z",
     "iopub.status.idle": "2024-05-12T14:39:06.220070Z",
     "shell.execute_reply": "2024-05-12T14:39:06.219057Z"
    },
    "papermill": {
     "duration": 0.018382,
     "end_time": "2024-05-12T14:39:06.222436",
     "exception": false,
     "start_time": "2024-05-12T14:39:06.204054",
     "status": "completed"
    },
    "tags": []
   },
   "outputs": [],
   "source": [
    "# Boolean sütunların adlarını kaldırma\n",
    "X.columns = [col.split('_')[0] for col in X.columns if '_' in col]"
   ]
  },
  {
   "cell_type": "code",
   "execution_count": 10,
   "id": "f5ab2362",
   "metadata": {
    "execution": {
     "iopub.execute_input": "2024-05-12T14:39:06.238225Z",
     "iopub.status.busy": "2024-05-12T14:39:06.237854Z",
     "iopub.status.idle": "2024-05-12T14:39:06.246147Z",
     "shell.execute_reply": "2024-05-12T14:39:06.245084Z"
    },
    "papermill": {
     "duration": 0.01898,
     "end_time": "2024-05-12T14:39:06.248584",
     "exception": false,
     "start_time": "2024-05-12T14:39:06.229604",
     "status": "completed"
    },
    "tags": []
   },
   "outputs": [],
   "source": [
    "# Veriyi numpy dizilerine dönüştürme\n",
    "X = X.values\n",
    "y = y.values"
   ]
  },
  {
   "cell_type": "code",
   "execution_count": 11,
   "id": "3425274e",
   "metadata": {
    "execution": {
     "iopub.execute_input": "2024-05-12T14:39:06.264691Z",
     "iopub.status.busy": "2024-05-12T14:39:06.264312Z",
     "iopub.status.idle": "2024-05-12T14:39:06.273218Z",
     "shell.execute_reply": "2024-05-12T14:39:06.272072Z"
    },
    "papermill": {
     "duration": 0.019565,
     "end_time": "2024-05-12T14:39:06.275532",
     "exception": false,
     "start_time": "2024-05-12T14:39:06.255967",
     "status": "completed"
    },
    "tags": []
   },
   "outputs": [],
   "source": [
    "X_train, X_test, y_train, y_test = train_test_split(X, y, test_size=0.2, random_state=42)\n"
   ]
  },
  {
   "cell_type": "code",
   "execution_count": 12,
   "id": "8ddd60f8",
   "metadata": {
    "execution": {
     "iopub.execute_input": "2024-05-12T14:39:06.291359Z",
     "iopub.status.busy": "2024-05-12T14:39:06.290993Z",
     "iopub.status.idle": "2024-05-12T14:39:06.310614Z",
     "shell.execute_reply": "2024-05-12T14:39:06.309653Z"
    },
    "papermill": {
     "duration": 0.030416,
     "end_time": "2024-05-12T14:39:06.313144",
     "exception": false,
     "start_time": "2024-05-12T14:39:06.282728",
     "status": "completed"
    },
    "tags": []
   },
   "outputs": [],
   "source": [
    "# Özellikleri ölçeklendirme\n",
    "scaler = StandardScaler()\n",
    "X_train = scaler.fit_transform(X_train)\n",
    "X_test = scaler.transform(X_test)"
   ]
  },
  {
   "cell_type": "code",
   "execution_count": 13,
   "id": "521d80f7",
   "metadata": {
    "execution": {
     "iopub.execute_input": "2024-05-12T14:39:06.346012Z",
     "iopub.status.busy": "2024-05-12T14:39:06.345025Z",
     "iopub.status.idle": "2024-05-12T14:39:06.522756Z",
     "shell.execute_reply": "2024-05-12T14:39:06.521641Z"
    },
    "papermill": {
     "duration": 0.190233,
     "end_time": "2024-05-12T14:39:06.525679",
     "exception": false,
     "start_time": "2024-05-12T14:39:06.335446",
     "status": "completed"
    },
    "tags": []
   },
   "outputs": [
    {
     "name": "stderr",
     "output_type": "stream",
     "text": [
      "/opt/conda/lib/python3.10/site-packages/keras/src/layers/rnn/rnn.py:204: UserWarning: Do not pass an `input_shape`/`input_dim` argument to a layer. When using Sequential models, prefer using an `Input(shape)` object as the first layer in the model instead.\n",
      "  super().__init__(**kwargs)\n"
     ]
    }
   ],
   "source": [
    "# LSTM modeli oluşturma\n",
    "model = Sequential()\n",
    "model.add(LSTM(units=50, return_sequences=True, input_shape=(X_train.shape[1], 1)))\n",
    "model.add(Dropout(0.2))\n",
    "model.add(LSTM(units=50, return_sequences=True))\n",
    "model.add(Dropout(0.2))\n",
    "model.add(LSTM(units=50))\n",
    "model.add(Dropout(0.2))\n",
    "model.add(Dense(units=1, activation='sigmoid'))"
   ]
  },
  {
   "cell_type": "code",
   "execution_count": 14,
   "id": "b71cf3c7",
   "metadata": {
    "execution": {
     "iopub.execute_input": "2024-05-12T14:39:06.542245Z",
     "iopub.status.busy": "2024-05-12T14:39:06.541453Z",
     "iopub.status.idle": "2024-05-12T14:39:06.556322Z",
     "shell.execute_reply": "2024-05-12T14:39:06.555210Z"
    },
    "papermill": {
     "duration": 0.025992,
     "end_time": "2024-05-12T14:39:06.558864",
     "exception": false,
     "start_time": "2024-05-12T14:39:06.532872",
     "status": "completed"
    },
    "tags": []
   },
   "outputs": [],
   "source": [
    "# Modeli derleme\n",
    "model.compile(optimizer='adam', loss='binary_crossentropy', metrics=['accuracy'])"
   ]
  },
  {
   "cell_type": "code",
   "execution_count": 15,
   "id": "a2cd1970",
   "metadata": {
    "execution": {
     "iopub.execute_input": "2024-05-12T14:39:06.575776Z",
     "iopub.status.busy": "2024-05-12T14:39:06.574836Z",
     "iopub.status.idle": "2024-05-12T14:40:29.978745Z",
     "shell.execute_reply": "2024-05-12T14:40:29.977792Z"
    },
    "papermill": {
     "duration": 83.414767,
     "end_time": "2024-05-12T14:40:29.981042",
     "exception": false,
     "start_time": "2024-05-12T14:39:06.566275",
     "status": "completed"
    },
    "tags": []
   },
   "outputs": [
    {
     "name": "stdout",
     "output_type": "stream",
     "text": [
      "Epoch 1/50\n",
      "\u001b[1m86/86\u001b[0m \u001b[32m━━━━━━━━━━━━━━━━━━━━\u001b[0m\u001b[37m\u001b[0m \u001b[1m7s\u001b[0m 24ms/step - accuracy: 0.5880 - loss: 0.6716 - val_accuracy: 0.6223 - val_loss: 0.6613\n",
      "Epoch 2/50\n",
      "\u001b[1m86/86\u001b[0m \u001b[32m━━━━━━━━━━━━━━━━━━━━\u001b[0m\u001b[37m\u001b[0m \u001b[1m2s\u001b[0m 19ms/step - accuracy: 0.6188 - loss: 0.6512 - val_accuracy: 0.6354 - val_loss: 0.6506\n",
      "Epoch 3/50\n",
      "\u001b[1m86/86\u001b[0m \u001b[32m━━━━━━━━━━━━━━━━━━━━\u001b[0m\u001b[37m\u001b[0m \u001b[1m2s\u001b[0m 19ms/step - accuracy: 0.6284 - loss: 0.6409 - val_accuracy: 0.6559 - val_loss: 0.6300\n",
      "Epoch 4/50\n",
      "\u001b[1m86/86\u001b[0m \u001b[32m━━━━━━━━━━━━━━━━━━━━\u001b[0m\u001b[37m\u001b[0m \u001b[1m2s\u001b[0m 18ms/step - accuracy: 0.6738 - loss: 0.6043 - val_accuracy: 0.7233 - val_loss: 0.5726\n",
      "Epoch 5/50\n",
      "\u001b[1m86/86\u001b[0m \u001b[32m━━━━━━━━━━━━━━━━━━━━\u001b[0m\u001b[37m\u001b[0m \u001b[1m2s\u001b[0m 18ms/step - accuracy: 0.7226 - loss: 0.5479 - val_accuracy: 0.7233 - val_loss: 0.5390\n",
      "Epoch 6/50\n",
      "\u001b[1m86/86\u001b[0m \u001b[32m━━━━━━━━━━━━━━━━━━━━\u001b[0m\u001b[37m\u001b[0m \u001b[1m2s\u001b[0m 18ms/step - accuracy: 0.7742 - loss: 0.4588 - val_accuracy: 0.7818 - val_loss: 0.4559\n",
      "Epoch 7/50\n",
      "\u001b[1m86/86\u001b[0m \u001b[32m━━━━━━━━━━━━━━━━━━━━\u001b[0m\u001b[37m\u001b[0m \u001b[1m2s\u001b[0m 18ms/step - accuracy: 0.7641 - loss: 0.4689 - val_accuracy: 0.7892 - val_loss: 0.4349\n",
      "Epoch 8/50\n",
      "\u001b[1m86/86\u001b[0m \u001b[32m━━━━━━━━━━━━━━━━━━━━\u001b[0m\u001b[37m\u001b[0m \u001b[1m2s\u001b[0m 18ms/step - accuracy: 0.7905 - loss: 0.4310 - val_accuracy: 0.8316 - val_loss: 0.3517\n",
      "Epoch 9/50\n",
      "\u001b[1m86/86\u001b[0m \u001b[32m━━━━━━━━━━━━━━━━━━━━\u001b[0m\u001b[37m\u001b[0m \u001b[1m2s\u001b[0m 18ms/step - accuracy: 0.8236 - loss: 0.3757 - val_accuracy: 0.8594 - val_loss: 0.3045\n",
      "Epoch 10/50\n",
      "\u001b[1m86/86\u001b[0m \u001b[32m━━━━━━━━━━━━━━━━━━━━\u001b[0m\u001b[37m\u001b[0m \u001b[1m2s\u001b[0m 17ms/step - accuracy: 0.8424 - loss: 0.3209 - val_accuracy: 0.9107 - val_loss: 0.2165\n",
      "Epoch 11/50\n",
      "\u001b[1m86/86\u001b[0m \u001b[32m━━━━━━━━━━━━━━━━━━━━\u001b[0m\u001b[37m\u001b[0m \u001b[1m2s\u001b[0m 18ms/step - accuracy: 0.8861 - loss: 0.2674 - val_accuracy: 0.9048 - val_loss: 0.2106\n",
      "Epoch 12/50\n",
      "\u001b[1m86/86\u001b[0m \u001b[32m━━━━━━━━━━━━━━━━━━━━\u001b[0m\u001b[37m\u001b[0m \u001b[1m2s\u001b[0m 17ms/step - accuracy: 0.8945 - loss: 0.2474 - val_accuracy: 0.9136 - val_loss: 0.1987\n",
      "Epoch 13/50\n",
      "\u001b[1m86/86\u001b[0m \u001b[32m━━━━━━━━━━━━━━━━━━━━\u001b[0m\u001b[37m\u001b[0m \u001b[1m2s\u001b[0m 18ms/step - accuracy: 0.9023 - loss: 0.2231 - val_accuracy: 0.9297 - val_loss: 0.1630\n",
      "Epoch 14/50\n",
      "\u001b[1m86/86\u001b[0m \u001b[32m━━━━━━━━━━━━━━━━━━━━\u001b[0m\u001b[37m\u001b[0m \u001b[1m2s\u001b[0m 18ms/step - accuracy: 0.9108 - loss: 0.2049 - val_accuracy: 0.9327 - val_loss: 0.1611\n",
      "Epoch 15/50\n",
      "\u001b[1m86/86\u001b[0m \u001b[32m━━━━━━━━━━━━━━━━━━━━\u001b[0m\u001b[37m\u001b[0m \u001b[1m2s\u001b[0m 18ms/step - accuracy: 0.9162 - loss: 0.1902 - val_accuracy: 0.9283 - val_loss: 0.1684\n",
      "Epoch 16/50\n",
      "\u001b[1m86/86\u001b[0m \u001b[32m━━━━━━━━━━━━━━━━━━━━\u001b[0m\u001b[37m\u001b[0m \u001b[1m2s\u001b[0m 20ms/step - accuracy: 0.9205 - loss: 0.1895 - val_accuracy: 0.9327 - val_loss: 0.1676\n",
      "Epoch 17/50\n",
      "\u001b[1m86/86\u001b[0m \u001b[32m━━━━━━━━━━━━━━━━━━━━\u001b[0m\u001b[37m\u001b[0m \u001b[1m2s\u001b[0m 17ms/step - accuracy: 0.9319 - loss: 0.1525 - val_accuracy: 0.9429 - val_loss: 0.1411\n",
      "Epoch 18/50\n",
      "\u001b[1m86/86\u001b[0m \u001b[32m━━━━━━━━━━━━━━━━━━━━\u001b[0m\u001b[37m\u001b[0m \u001b[1m2s\u001b[0m 17ms/step - accuracy: 0.9248 - loss: 0.1706 - val_accuracy: 0.9370 - val_loss: 0.1476\n",
      "Epoch 19/50\n",
      "\u001b[1m86/86\u001b[0m \u001b[32m━━━━━━━━━━━━━━━━━━━━\u001b[0m\u001b[37m\u001b[0m \u001b[1m1s\u001b[0m 17ms/step - accuracy: 0.9228 - loss: 0.1693 - val_accuracy: 0.9385 - val_loss: 0.1470\n",
      "Epoch 20/50\n",
      "\u001b[1m86/86\u001b[0m \u001b[32m━━━━━━━━━━━━━━━━━━━━\u001b[0m\u001b[37m\u001b[0m \u001b[1m2s\u001b[0m 17ms/step - accuracy: 0.9308 - loss: 0.1599 - val_accuracy: 0.9239 - val_loss: 0.1912\n",
      "Epoch 21/50\n",
      "\u001b[1m86/86\u001b[0m \u001b[32m━━━━━━━━━━━━━━━━━━━━\u001b[0m\u001b[37m\u001b[0m \u001b[1m1s\u001b[0m 17ms/step - accuracy: 0.9222 - loss: 0.1759 - val_accuracy: 0.9444 - val_loss: 0.1351\n",
      "Epoch 22/50\n",
      "\u001b[1m86/86\u001b[0m \u001b[32m━━━━━━━━━━━━━━━━━━━━\u001b[0m\u001b[37m\u001b[0m \u001b[1m2s\u001b[0m 18ms/step - accuracy: 0.9283 - loss: 0.1470 - val_accuracy: 0.9209 - val_loss: 0.1659\n",
      "Epoch 23/50\n",
      "\u001b[1m86/86\u001b[0m \u001b[32m━━━━━━━━━━━━━━━━━━━━\u001b[0m\u001b[37m\u001b[0m \u001b[1m2s\u001b[0m 18ms/step - accuracy: 0.9376 - loss: 0.1480 - val_accuracy: 0.9224 - val_loss: 0.1742\n",
      "Epoch 24/50\n",
      "\u001b[1m86/86\u001b[0m \u001b[32m━━━━━━━━━━━━━━━━━━━━\u001b[0m\u001b[37m\u001b[0m \u001b[1m2s\u001b[0m 18ms/step - accuracy: 0.9239 - loss: 0.1639 - val_accuracy: 0.9444 - val_loss: 0.1277\n",
      "Epoch 25/50\n",
      "\u001b[1m86/86\u001b[0m \u001b[32m━━━━━━━━━━━━━━━━━━━━\u001b[0m\u001b[37m\u001b[0m \u001b[1m2s\u001b[0m 17ms/step - accuracy: 0.9260 - loss: 0.1490 - val_accuracy: 0.9327 - val_loss: 0.1512\n",
      "Epoch 26/50\n",
      "\u001b[1m86/86\u001b[0m \u001b[32m━━━━━━━━━━━━━━━━━━━━\u001b[0m\u001b[37m\u001b[0m \u001b[1m2s\u001b[0m 17ms/step - accuracy: 0.9332 - loss: 0.1460 - val_accuracy: 0.9253 - val_loss: 0.1719\n",
      "Epoch 27/50\n",
      "\u001b[1m86/86\u001b[0m \u001b[32m━━━━━━━━━━━━━━━━━━━━\u001b[0m\u001b[37m\u001b[0m \u001b[1m2s\u001b[0m 18ms/step - accuracy: 0.9405 - loss: 0.1379 - val_accuracy: 0.9370 - val_loss: 0.1613\n",
      "Epoch 28/50\n",
      "\u001b[1m86/86\u001b[0m \u001b[32m━━━━━━━━━━━━━━━━━━━━\u001b[0m\u001b[37m\u001b[0m \u001b[1m2s\u001b[0m 18ms/step - accuracy: 0.9333 - loss: 0.1444 - val_accuracy: 0.9327 - val_loss: 0.1349\n",
      "Epoch 29/50\n",
      "\u001b[1m86/86\u001b[0m \u001b[32m━━━━━━━━━━━━━━━━━━━━\u001b[0m\u001b[37m\u001b[0m \u001b[1m2s\u001b[0m 17ms/step - accuracy: 0.9425 - loss: 0.1383 - val_accuracy: 0.9473 - val_loss: 0.1332\n",
      "Epoch 30/50\n",
      "\u001b[1m86/86\u001b[0m \u001b[32m━━━━━━━━━━━━━━━━━━━━\u001b[0m\u001b[37m\u001b[0m \u001b[1m1s\u001b[0m 16ms/step - accuracy: 0.9229 - loss: 0.1724 - val_accuracy: 0.9429 - val_loss: 0.1525\n",
      "Epoch 31/50\n",
      "\u001b[1m86/86\u001b[0m \u001b[32m━━━━━━━━━━━━━━━━━━━━\u001b[0m\u001b[37m\u001b[0m \u001b[1m1s\u001b[0m 17ms/step - accuracy: 0.9421 - loss: 0.1369 - val_accuracy: 0.9400 - val_loss: 0.1269\n",
      "Epoch 32/50\n",
      "\u001b[1m86/86\u001b[0m \u001b[32m━━━━━━━━━━━━━━━━━━━━\u001b[0m\u001b[37m\u001b[0m \u001b[1m1s\u001b[0m 17ms/step - accuracy: 0.9367 - loss: 0.1424 - val_accuracy: 0.9268 - val_loss: 0.1465\n",
      "Epoch 33/50\n",
      "\u001b[1m86/86\u001b[0m \u001b[32m━━━━━━━━━━━━━━━━━━━━\u001b[0m\u001b[37m\u001b[0m \u001b[1m1s\u001b[0m 17ms/step - accuracy: 0.9452 - loss: 0.1290 - val_accuracy: 0.9444 - val_loss: 0.1311\n",
      "Epoch 34/50\n",
      "\u001b[1m86/86\u001b[0m \u001b[32m━━━━━━━━━━━━━━━━━━━━\u001b[0m\u001b[37m\u001b[0m \u001b[1m2s\u001b[0m 18ms/step - accuracy: 0.9390 - loss: 0.1239 - val_accuracy: 0.9327 - val_loss: 0.1280\n",
      "Epoch 35/50\n",
      "\u001b[1m86/86\u001b[0m \u001b[32m━━━━━━━━━━━━━━━━━━━━\u001b[0m\u001b[37m\u001b[0m \u001b[1m2s\u001b[0m 18ms/step - accuracy: 0.9488 - loss: 0.1111 - val_accuracy: 0.9327 - val_loss: 0.1401\n",
      "Epoch 36/50\n",
      "\u001b[1m86/86\u001b[0m \u001b[32m━━━━━━━━━━━━━━━━━━━━\u001b[0m\u001b[37m\u001b[0m \u001b[1m2s\u001b[0m 18ms/step - accuracy: 0.9536 - loss: 0.0976 - val_accuracy: 0.9444 - val_loss: 0.1274\n",
      "Epoch 37/50\n",
      "\u001b[1m86/86\u001b[0m \u001b[32m━━━━━━━━━━━━━━━━━━━━\u001b[0m\u001b[37m\u001b[0m \u001b[1m2s\u001b[0m 18ms/step - accuracy: 0.9523 - loss: 0.1156 - val_accuracy: 0.9341 - val_loss: 0.1453\n",
      "Epoch 38/50\n",
      "\u001b[1m86/86\u001b[0m \u001b[32m━━━━━━━━━━━━━━━━━━━━\u001b[0m\u001b[37m\u001b[0m \u001b[1m2s\u001b[0m 18ms/step - accuracy: 0.9475 - loss: 0.1233 - val_accuracy: 0.9209 - val_loss: 0.1545\n",
      "Epoch 39/50\n",
      "\u001b[1m86/86\u001b[0m \u001b[32m━━━━━━━━━━━━━━━━━━━━\u001b[0m\u001b[37m\u001b[0m \u001b[1m2s\u001b[0m 17ms/step - accuracy: 0.9553 - loss: 0.1054 - val_accuracy: 0.9312 - val_loss: 0.1568\n",
      "Epoch 40/50\n",
      "\u001b[1m86/86\u001b[0m \u001b[32m━━━━━━━━━━━━━━━━━━━━\u001b[0m\u001b[37m\u001b[0m \u001b[1m2s\u001b[0m 17ms/step - accuracy: 0.9477 - loss: 0.1137 - val_accuracy: 0.9385 - val_loss: 0.1170\n",
      "Epoch 41/50\n",
      "\u001b[1m86/86\u001b[0m \u001b[32m━━━━━━━━━━━━━━━━━━━━\u001b[0m\u001b[37m\u001b[0m \u001b[1m2s\u001b[0m 18ms/step - accuracy: 0.9480 - loss: 0.1227 - val_accuracy: 0.9341 - val_loss: 0.1265\n",
      "Epoch 42/50\n",
      "\u001b[1m86/86\u001b[0m \u001b[32m━━━━━━━━━━━━━━━━━━━━\u001b[0m\u001b[37m\u001b[0m \u001b[1m2s\u001b[0m 18ms/step - accuracy: 0.9489 - loss: 0.1222 - val_accuracy: 0.9341 - val_loss: 0.1289\n",
      "Epoch 43/50\n",
      "\u001b[1m86/86\u001b[0m \u001b[32m━━━━━━━━━━━━━━━━━━━━\u001b[0m\u001b[37m\u001b[0m \u001b[1m2s\u001b[0m 18ms/step - accuracy: 0.9468 - loss: 0.1211 - val_accuracy: 0.9341 - val_loss: 0.1196\n",
      "Epoch 44/50\n",
      "\u001b[1m86/86\u001b[0m \u001b[32m━━━━━━━━━━━━━━━━━━━━\u001b[0m\u001b[37m\u001b[0m \u001b[1m1s\u001b[0m 17ms/step - accuracy: 0.9630 - loss: 0.0982 - val_accuracy: 0.9356 - val_loss: 0.1291\n",
      "Epoch 45/50\n",
      "\u001b[1m86/86\u001b[0m \u001b[32m━━━━━━━━━━━━━━━━━━━━\u001b[0m\u001b[37m\u001b[0m \u001b[1m2s\u001b[0m 17ms/step - accuracy: 0.9509 - loss: 0.1088 - val_accuracy: 0.9458 - val_loss: 0.1213\n",
      "Epoch 46/50\n",
      "\u001b[1m86/86\u001b[0m \u001b[32m━━━━━━━━━━━━━━━━━━━━\u001b[0m\u001b[37m\u001b[0m \u001b[1m1s\u001b[0m 17ms/step - accuracy: 0.9501 - loss: 0.1193 - val_accuracy: 0.9239 - val_loss: 0.1672\n",
      "Epoch 47/50\n",
      "\u001b[1m86/86\u001b[0m \u001b[32m━━━━━━━━━━━━━━━━━━━━\u001b[0m\u001b[37m\u001b[0m \u001b[1m1s\u001b[0m 17ms/step - accuracy: 0.9430 - loss: 0.1322 - val_accuracy: 0.9341 - val_loss: 0.1383\n",
      "Epoch 48/50\n",
      "\u001b[1m86/86\u001b[0m \u001b[32m━━━━━━━━━━━━━━━━━━━━\u001b[0m\u001b[37m\u001b[0m \u001b[1m2s\u001b[0m 18ms/step - accuracy: 0.9505 - loss: 0.1030 - val_accuracy: 0.9400 - val_loss: 0.1260\n",
      "Epoch 49/50\n",
      "\u001b[1m86/86\u001b[0m \u001b[32m━━━━━━━━━━━━━━━━━━━━\u001b[0m\u001b[37m\u001b[0m \u001b[1m2s\u001b[0m 18ms/step - accuracy: 0.9508 - loss: 0.1089 - val_accuracy: 0.9444 - val_loss: 0.1121\n",
      "Epoch 50/50\n",
      "\u001b[1m86/86\u001b[0m \u001b[32m━━━━━━━━━━━━━━━━━━━━\u001b[0m\u001b[37m\u001b[0m \u001b[1m1s\u001b[0m 17ms/step - accuracy: 0.9540 - loss: 0.0950 - val_accuracy: 0.9400 - val_loss: 0.1136\n"
     ]
    }
   ],
   "source": [
    "# Modeli eğitme\n",
    "history = model.fit(X_train, y_train, epochs=50, batch_size=32, validation_split=0.2)"
   ]
  },
  {
   "cell_type": "code",
   "execution_count": 16,
   "id": "8f79a0e7",
   "metadata": {
    "execution": {
     "iopub.execute_input": "2024-05-12T14:40:30.222548Z",
     "iopub.status.busy": "2024-05-12T14:40:30.221720Z",
     "iopub.status.idle": "2024-05-12T14:40:30.467751Z",
     "shell.execute_reply": "2024-05-12T14:40:30.466469Z"
    },
    "papermill": {
     "duration": 0.369258,
     "end_time": "2024-05-12T14:40:30.470259",
     "exception": false,
     "start_time": "2024-05-12T14:40:30.101001",
     "status": "completed"
    },
    "tags": []
   },
   "outputs": [
    {
     "name": "stdout",
     "output_type": "stream",
     "text": [
      "\u001b[1m27/27\u001b[0m \u001b[32m━━━━━━━━━━━━━━━━━━━━\u001b[0m\u001b[37m\u001b[0m \u001b[1m0s\u001b[0m 6ms/step - accuracy: 0.9552 - loss: 0.1087\n",
      "Test doğruluğu: 0.9531615972518921\n"
     ]
    }
   ],
   "source": [
    "# Modeli değerlendirme\n",
    "accuracy = model.evaluate(X_test, y_test)[1]\n",
    "print(\"Test doğruluğu:\", accuracy)"
   ]
  },
  {
   "cell_type": "code",
   "execution_count": 17,
   "id": "e9cdec8e",
   "metadata": {
    "execution": {
     "iopub.execute_input": "2024-05-12T14:40:30.714139Z",
     "iopub.status.busy": "2024-05-12T14:40:30.713737Z",
     "iopub.status.idle": "2024-05-12T14:40:31.532051Z",
     "shell.execute_reply": "2024-05-12T14:40:31.530744Z"
    },
    "papermill": {
     "duration": 0.943029,
     "end_time": "2024-05-12T14:40:31.533944",
     "exception": true,
     "start_time": "2024-05-12T14:40:30.590915",
     "status": "failed"
    },
    "tags": []
   },
   "outputs": [
    {
     "ename": "NameError",
     "evalue": "name 'y_pred' is not defined",
     "output_type": "error",
     "traceback": [
      "\u001b[0;31m---------------------------------------------------------------------------\u001b[0m",
      "\u001b[0;31mNameError\u001b[0m                                 Traceback (most recent call last)",
      "Cell \u001b[0;32mIn[17], line 3\u001b[0m\n\u001b[1;32m      1\u001b[0m \u001b[38;5;66;03m# Model tahminlerini ikili sınıflara dönüştürme\u001b[39;00m\n\u001b[1;32m      2\u001b[0m threshold \u001b[38;5;241m=\u001b[39m \u001b[38;5;241m0.5\u001b[39m\n\u001b[0;32m----> 3\u001b[0m y_pred_classes \u001b[38;5;241m=\u001b[39m (\u001b[43my_pred\u001b[49m \u001b[38;5;241m>\u001b[39m\u001b[38;5;241m=\u001b[39m threshold)\u001b[38;5;241m.\u001b[39mastype(\u001b[38;5;28mint\u001b[39m)\n\u001b[1;32m      5\u001b[0m \u001b[38;5;66;03m# Confusion matrix'i hesaplama\u001b[39;00m\n\u001b[1;32m      6\u001b[0m conf_matrix \u001b[38;5;241m=\u001b[39m confusion_matrix(y_true, y_pred_classes)\n",
      "\u001b[0;31mNameError\u001b[0m: name 'y_pred' is not defined"
     ]
    }
   ],
   "source": [
    "# Model tahminlerini ikili sınıflara dönüştürme\n",
    "threshold = 0.5\n",
    "y_pred_classes = (y_pred >= threshold).astype(int)\n",
    "\n",
    "# Confusion matrix'i hesaplama\n",
    "conf_matrix = confusion_matrix(y_true, y_pred_classes)\n",
    "\n",
    "# Renkli görselleştirme\n",
    "sns.heatmap(conf_matrix, annot=True, fmt=\"d\", cmap=\"Blues\")\n",
    "plt.title(\"Confusion Matrix\")\n",
    "plt.xlabel(\"Predicted Label\")\n",
    "plt.ylabel(\"True Label\")\n",
    "plt.show()"
   ]
  },
  {
   "cell_type": "code",
   "execution_count": null,
   "id": "c1a6b417",
   "metadata": {
    "execution": {
     "iopub.execute_input": "2024-05-12T14:37:00.854584Z",
     "iopub.status.busy": "2024-05-12T14:37:00.853488Z",
     "iopub.status.idle": "2024-05-12T14:37:00.870550Z",
     "shell.execute_reply": "2024-05-12T14:37:00.869366Z",
     "shell.execute_reply.started": "2024-05-12T14:37:00.854538Z"
    },
    "papermill": {
     "duration": null,
     "end_time": null,
     "exception": null,
     "start_time": null,
     "status": "pending"
    },
    "tags": []
   },
   "outputs": [],
   "source": [
    "from sklearn.metrics import classification_report\n",
    "\n",
    "# Classification report'u hesaplama\n",
    "report = classification_report(y_true, y_pred_classes)\n",
    "\n",
    "print(report)"
   ]
  }
 ],
 "metadata": {
  "kaggle": {
   "accelerator": "none",
   "dataSources": [
    {
     "datasetId": 3523739,
     "sourceId": 6144787,
     "sourceType": "datasetVersion"
    }
   ],
   "dockerImageVersionId": 30698,
   "isGpuEnabled": false,
   "isInternetEnabled": true,
   "language": "python",
   "sourceType": "notebook"
  },
  "kernelspec": {
   "display_name": "Python 3",
   "language": "python",
   "name": "python3"
  },
  "language_info": {
   "codemirror_mode": {
    "name": "ipython",
    "version": 3
   },
   "file_extension": ".py",
   "mimetype": "text/x-python",
   "name": "python",
   "nbconvert_exporter": "python",
   "pygments_lexer": "ipython3",
   "version": "3.10.13"
  },
  "papermill": {
   "default_parameters": {},
   "duration": 106.146042,
   "end_time": "2024-05-12T14:40:33.546676",
   "environment_variables": {},
   "exception": true,
   "input_path": "__notebook__.ipynb",
   "output_path": "__notebook__.ipynb",
   "parameters": {},
   "start_time": "2024-05-12T14:38:47.400634",
   "version": "2.5.0"
  }
 },
 "nbformat": 4,
 "nbformat_minor": 5
}
